{
 "cells": [
  {
   "cell_type": "markdown",
   "metadata": {
    "extensions": {
     "jupyter_dashboards": {
      "version": 1,
      "views": {
       "grid_default": {
        "col": 0,
        "height": 4,
        "hidden": false,
        "row": 0,
        "width": 4
       },
       "report_default": {
        "hidden": false
       }
      }
     }
    }
   },
   "source": [
    "# Project: Wrangling and Analyze Data"
   ]
  },
  {
   "cell_type": "markdown",
   "metadata": {},
   "source": [
    "IMPORTING LIBRARIES"
   ]
  },
  {
   "cell_type": "code",
   "execution_count": 429,
   "metadata": {},
   "outputs": [
    {
     "name": "stderr",
     "output_type": "stream",
     "text": [
      "C:\\Users\\user\\AppData\\Local\\Temp/ipykernel_22916/3094802628.py:16: FutureWarning: Passing a negative integer is deprecated in version 1.0 and will not be supported in future version. Instead, use None to not limit the column width.\n",
      "  pd.set_option('display.max_colwidth', -1)  # or 199\n"
     ]
    }
   ],
   "source": [
    "import numpy as np\n",
    "import pandas as pd\n",
    "import json\n",
    "import snscrape.modules.twitter as sntwitter\n",
    "import seaborn as sns\n",
    "import matplotlib.pyplot as plt\n",
    "%matplotlib inline\n",
    "\n",
    "\n",
    "\n",
    "#set printing options to display all columns and rows\n",
    "#pd.set_option('display.max_columns', None)\n",
    "#pd.set_option('display.max_rows', None)\n",
    "pd.set_option('display.max_columns', None)  # or 1000\n",
    "pd.set_option('display.max_rows', None)  # or 1000\n",
    "pd.set_option('display.max_colwidth', -1)  # or 199"
   ]
  },
  {
   "cell_type": "code",
   "execution_count": null,
   "metadata": {},
   "outputs": [],
   "source": []
  },
  {
   "cell_type": "markdown",
   "metadata": {},
   "source": [
    "## Data Gathering\n",
    "In the cell below, gather **all** three pieces of data for this project and load them in the notebook. **Note:** the methods required to gather each data are different.\n",
    "1. Directly download the WeRateDogs Twitter archive data (twitter_archive_enhanced.csv)"
   ]
  },
  {
   "cell_type": "code",
   "execution_count": 430,
   "metadata": {},
   "outputs": [
    {
     "name": "stdout",
     "output_type": "stream",
     "text": [
      "<class 'pandas.core.frame.DataFrame'>\n",
      "RangeIndex: 2356 entries, 0 to 2355\n",
      "Data columns (total 17 columns):\n",
      " #   Column                      Non-Null Count  Dtype  \n",
      "---  ------                      --------------  -----  \n",
      " 0   tweet_id                    2356 non-null   float64\n",
      " 1   in_reply_to_status_id       78 non-null     float64\n",
      " 2   in_reply_to_user_id         78 non-null     float64\n",
      " 3   timestamp                   2356 non-null   object \n",
      " 4   source                      2356 non-null   object \n",
      " 5   text                        2356 non-null   object \n",
      " 6   retweeted_status_id         181 non-null    float64\n",
      " 7   retweeted_status_user_id    181 non-null    float64\n",
      " 8   retweeted_status_timestamp  181 non-null    object \n",
      " 9   expanded_urls               2297 non-null   object \n",
      " 10  rating_numerator            2356 non-null   int64  \n",
      " 11  rating_denominator          2356 non-null   int64  \n",
      " 12  name                        1611 non-null   object \n",
      " 13  doggo                       97 non-null     object \n",
      " 14  floofer                     10 non-null     object \n",
      " 15  pupper                      257 non-null    object \n",
      " 16  puppo                       30 non-null     object \n",
      "dtypes: float64(5), int64(2), object(10)\n",
      "memory usage: 313.0+ KB\n"
     ]
    }
   ],
   "source": [
    "twt_arc=pd.read_csv('twitter-archive-enhanced.csv')\n",
    "twt_arc.info()"
   ]
  },
  {
   "cell_type": "code",
   "execution_count": 431,
   "metadata": {},
   "outputs": [
    {
     "data": {
      "text/html": [
       "<div>\n",
       "<style scoped>\n",
       "    .dataframe tbody tr th:only-of-type {\n",
       "        vertical-align: middle;\n",
       "    }\n",
       "\n",
       "    .dataframe tbody tr th {\n",
       "        vertical-align: top;\n",
       "    }\n",
       "\n",
       "    .dataframe thead th {\n",
       "        text-align: right;\n",
       "    }\n",
       "</style>\n",
       "<table border=\"1\" class=\"dataframe\">\n",
       "  <thead>\n",
       "    <tr style=\"text-align: right;\">\n",
       "      <th></th>\n",
       "      <th>tweet_id</th>\n",
       "      <th>in_reply_to_status_id</th>\n",
       "      <th>in_reply_to_user_id</th>\n",
       "      <th>timestamp</th>\n",
       "      <th>source</th>\n",
       "      <th>text</th>\n",
       "      <th>retweeted_status_id</th>\n",
       "      <th>retweeted_status_user_id</th>\n",
       "      <th>retweeted_status_timestamp</th>\n",
       "      <th>expanded_urls</th>\n",
       "      <th>rating_numerator</th>\n",
       "      <th>rating_denominator</th>\n",
       "      <th>name</th>\n",
       "      <th>doggo</th>\n",
       "      <th>floofer</th>\n",
       "      <th>pupper</th>\n",
       "      <th>puppo</th>\n",
       "    </tr>\n",
       "  </thead>\n",
       "  <tbody>\n",
       "    <tr>\n",
       "      <th>0</th>\n",
       "      <td>8.924210e+17</td>\n",
       "      <td>NaN</td>\n",
       "      <td>NaN</td>\n",
       "      <td>2017-08-01 16:23:56 +0000</td>\n",
       "      <td>&lt;a href=\"http://twitter.com/download/iphone\" rel=\"nofollow\"&gt;Twitter for iPhone&lt;/a&gt;</td>\n",
       "      <td>This is Phineas. He's a mystical boy. Only ever appears in the hole of a donut. 13/10 https://t.co/MgUWQ76dJU</td>\n",
       "      <td>NaN</td>\n",
       "      <td>NaN</td>\n",
       "      <td>NaN</td>\n",
       "      <td>https://twitter.com/dog_rates/status/892420643555336193/photo/1</td>\n",
       "      <td>13</td>\n",
       "      <td>10</td>\n",
       "      <td>Phineas</td>\n",
       "      <td>NaN</td>\n",
       "      <td>NaN</td>\n",
       "      <td>NaN</td>\n",
       "      <td>NaN</td>\n",
       "    </tr>\n",
       "    <tr>\n",
       "      <th>1</th>\n",
       "      <td>8.921770e+17</td>\n",
       "      <td>NaN</td>\n",
       "      <td>NaN</td>\n",
       "      <td>2017-08-01 00:17:27 +0000</td>\n",
       "      <td>&lt;a href=\"http://twitter.com/download/iphone\" rel=\"nofollow\"&gt;Twitter for iPhone&lt;/a&gt;</td>\n",
       "      <td>This is Tilly. She's just checking pup on you. Hopes you're doing ok. If not, she's available for pats, snugs, boops, the whole bit. 13/10 https://t.co/0Xxu71qeIV</td>\n",
       "      <td>NaN</td>\n",
       "      <td>NaN</td>\n",
       "      <td>NaN</td>\n",
       "      <td>https://twitter.com/dog_rates/status/892177421306343426/photo/1</td>\n",
       "      <td>13</td>\n",
       "      <td>10</td>\n",
       "      <td>Tilly</td>\n",
       "      <td>NaN</td>\n",
       "      <td>NaN</td>\n",
       "      <td>NaN</td>\n",
       "      <td>NaN</td>\n",
       "    </tr>\n",
       "    <tr>\n",
       "      <th>2</th>\n",
       "      <td>8.918150e+17</td>\n",
       "      <td>NaN</td>\n",
       "      <td>NaN</td>\n",
       "      <td>2017-07-31 00:18:03 +0000</td>\n",
       "      <td>&lt;a href=\"http://twitter.com/download/iphone\" rel=\"nofollow\"&gt;Twitter for iPhone&lt;/a&gt;</td>\n",
       "      <td>This is Archie. He is a rare Norwegian Pouncing Corgo. Lives in the tall grass. You never know when one may strike. 12/10 https://t.co/wUnZnhtVJB</td>\n",
       "      <td>NaN</td>\n",
       "      <td>NaN</td>\n",
       "      <td>NaN</td>\n",
       "      <td>https://twitter.com/dog_rates/status/891815181378084864/photo/1</td>\n",
       "      <td>12</td>\n",
       "      <td>10</td>\n",
       "      <td>Archie</td>\n",
       "      <td>NaN</td>\n",
       "      <td>NaN</td>\n",
       "      <td>NaN</td>\n",
       "      <td>NaN</td>\n",
       "    </tr>\n",
       "  </tbody>\n",
       "</table>\n",
       "</div>"
      ],
      "text/plain": [
       "       tweet_id  in_reply_to_status_id  in_reply_to_user_id  \\\n",
       "0  8.924210e+17 NaN                    NaN                    \n",
       "1  8.921770e+17 NaN                    NaN                    \n",
       "2  8.918150e+17 NaN                    NaN                    \n",
       "\n",
       "                   timestamp  \\\n",
       "0  2017-08-01 16:23:56 +0000   \n",
       "1  2017-08-01 00:17:27 +0000   \n",
       "2  2017-07-31 00:18:03 +0000   \n",
       "\n",
       "                                                                               source  \\\n",
       "0  <a href=\"http://twitter.com/download/iphone\" rel=\"nofollow\">Twitter for iPhone</a>   \n",
       "1  <a href=\"http://twitter.com/download/iphone\" rel=\"nofollow\">Twitter for iPhone</a>   \n",
       "2  <a href=\"http://twitter.com/download/iphone\" rel=\"nofollow\">Twitter for iPhone</a>   \n",
       "\n",
       "                                                                                                                                                                 text  \\\n",
       "0  This is Phineas. He's a mystical boy. Only ever appears in the hole of a donut. 13/10 https://t.co/MgUWQ76dJU                                                        \n",
       "1  This is Tilly. She's just checking pup on you. Hopes you're doing ok. If not, she's available for pats, snugs, boops, the whole bit. 13/10 https://t.co/0Xxu71qeIV   \n",
       "2  This is Archie. He is a rare Norwegian Pouncing Corgo. Lives in the tall grass. You never know when one may strike. 12/10 https://t.co/wUnZnhtVJB                    \n",
       "\n",
       "   retweeted_status_id  retweeted_status_user_id retweeted_status_timestamp  \\\n",
       "0 NaN                  NaN                        NaN                         \n",
       "1 NaN                  NaN                        NaN                         \n",
       "2 NaN                  NaN                        NaN                         \n",
       "\n",
       "                                                     expanded_urls  \\\n",
       "0  https://twitter.com/dog_rates/status/892420643555336193/photo/1   \n",
       "1  https://twitter.com/dog_rates/status/892177421306343426/photo/1   \n",
       "2  https://twitter.com/dog_rates/status/891815181378084864/photo/1   \n",
       "\n",
       "   rating_numerator  rating_denominator     name doggo floofer pupper puppo  \n",
       "0  13                10                  Phineas  NaN   NaN     NaN    NaN   \n",
       "1  13                10                  Tilly    NaN   NaN     NaN    NaN   \n",
       "2  12                10                  Archie   NaN   NaN     NaN    NaN   "
      ]
     },
     "execution_count": 431,
     "metadata": {},
     "output_type": "execute_result"
    }
   ],
   "source": [
    "twt_arc.head(3)"
   ]
  },
  {
   "cell_type": "code",
   "execution_count": null,
   "metadata": {
    "extensions": {
     "jupyter_dashboards": {
      "version": 1,
      "views": {
       "grid_default": {
        "hidden": true
       },
       "report_default": {
        "hidden": true
       }
      }
     }
    }
   },
   "outputs": [],
   "source": []
  },
  {
   "cell_type": "markdown",
   "metadata": {},
   "source": [
    "2. Use the Requests library to download the tweet image prediction (image_predictions.tsv)"
   ]
  },
  {
   "cell_type": "code",
   "execution_count": 568,
   "metadata": {},
   "outputs": [],
   "source": [
    "import csv\n",
    "import requests\n",
    "import os\n"
   ]
  },
  {
   "cell_type": "markdown",
   "metadata": {},
   "source": [
    "importing the libraries"
   ]
  },
  {
   "cell_type": "code",
   "execution_count": 576,
   "metadata": {},
   "outputs": [],
   "source": [
    "# Make directory if it doesn't already exist\n",
    "folder_name = 'UDACITY PROJECT 2'\n",
    "if not os.path.exists(folder_name):\n",
    "    os.makedirs(folder_name)"
   ]
  },
  {
   "cell_type": "markdown",
   "metadata": {},
   "source": [
    "creating folder for storing the tsv file"
   ]
  },
  {
   "cell_type": "code",
   "execution_count": 577,
   "metadata": {},
   "outputs": [],
   "source": [
    "url = 'https://d17h27t6h515a5.cloudfront.net/topher/2017/August/599fd2ad_image-predictions/image-predictions.tsv'\n",
    "response = requests.get(url)"
   ]
  },
  {
   "cell_type": "markdown",
   "metadata": {},
   "source": [
    "Using request libraries to assess data from url"
   ]
  },
  {
   "cell_type": "code",
   "execution_count": 578,
   "metadata": {},
   "outputs": [],
   "source": [
    "with open(os.path.join(folder_name, url.split('/')[-1]), mode = 'wb') as file:\n",
    "    file.write(response.content)"
   ]
  },
  {
   "cell_type": "markdown",
   "metadata": {},
   "source": [
    "writing the tsv file to the folder path "
   ]
  },
  {
   "cell_type": "code",
   "execution_count": 580,
   "metadata": {},
   "outputs": [
    {
     "name": "stdout",
     "output_type": "stream",
     "text": [
      "<class 'pandas.core.frame.DataFrame'>\n",
      "RangeIndex: 2075 entries, 0 to 2074\n",
      "Data columns (total 12 columns):\n",
      " #   Column    Non-Null Count  Dtype  \n",
      "---  ------    --------------  -----  \n",
      " 0   tweet_id  2075 non-null   int64  \n",
      " 1   jpg_url   2075 non-null   object \n",
      " 2   img_num   2075 non-null   int64  \n",
      " 3   p1        2075 non-null   object \n",
      " 4   p1_conf   2075 non-null   float64\n",
      " 5   p1_dog    2075 non-null   bool   \n",
      " 6   p2        2075 non-null   object \n",
      " 7   p2_conf   2075 non-null   float64\n",
      " 8   p2_dog    2075 non-null   bool   \n",
      " 9   p3        2075 non-null   object \n",
      " 10  p3_conf   2075 non-null   float64\n",
      " 11  p3_dog    2075 non-null   bool   \n",
      "dtypes: bool(3), float64(3), int64(2), object(4)\n",
      "memory usage: 152.1+ KB\n"
     ]
    }
   ],
   "source": [
    "imgs=pd.read_csv(r'C:\\Users\\user\\Desktop\\UDACITY PROJECT 2\\UDACITY PROJECT 2\\image-predictions.tsv',delimiter='\\t')\n",
    "imgs.info()"
   ]
  },
  {
   "cell_type": "code",
   "execution_count": 433,
   "metadata": {},
   "outputs": [
    {
     "data": {
      "text/html": [
       "<div>\n",
       "<style scoped>\n",
       "    .dataframe tbody tr th:only-of-type {\n",
       "        vertical-align: middle;\n",
       "    }\n",
       "\n",
       "    .dataframe tbody tr th {\n",
       "        vertical-align: top;\n",
       "    }\n",
       "\n",
       "    .dataframe thead th {\n",
       "        text-align: right;\n",
       "    }\n",
       "</style>\n",
       "<table border=\"1\" class=\"dataframe\">\n",
       "  <thead>\n",
       "    <tr style=\"text-align: right;\">\n",
       "      <th></th>\n",
       "      <th>tweet_id</th>\n",
       "      <th>jpg_url</th>\n",
       "      <th>img_num</th>\n",
       "      <th>p1</th>\n",
       "      <th>p1_conf</th>\n",
       "      <th>p1_dog</th>\n",
       "      <th>p2</th>\n",
       "      <th>p2_conf</th>\n",
       "      <th>p2_dog</th>\n",
       "      <th>p3</th>\n",
       "      <th>p3_conf</th>\n",
       "      <th>p3_dog</th>\n",
       "    </tr>\n",
       "  </thead>\n",
       "  <tbody>\n",
       "    <tr>\n",
       "      <th>0</th>\n",
       "      <td>666020888022790149</td>\n",
       "      <td>https://pbs.twimg.com/media/CT4udn0WwAA0aMy.jpg</td>\n",
       "      <td>1</td>\n",
       "      <td>Welsh_springer_spaniel</td>\n",
       "      <td>0.465074</td>\n",
       "      <td>True</td>\n",
       "      <td>collie</td>\n",
       "      <td>0.156665</td>\n",
       "      <td>True</td>\n",
       "      <td>Shetland_sheepdog</td>\n",
       "      <td>0.061428</td>\n",
       "      <td>True</td>\n",
       "    </tr>\n",
       "    <tr>\n",
       "      <th>1</th>\n",
       "      <td>666029285002620928</td>\n",
       "      <td>https://pbs.twimg.com/media/CT42GRgUYAA5iDo.jpg</td>\n",
       "      <td>1</td>\n",
       "      <td>redbone</td>\n",
       "      <td>0.506826</td>\n",
       "      <td>True</td>\n",
       "      <td>miniature_pinscher</td>\n",
       "      <td>0.074192</td>\n",
       "      <td>True</td>\n",
       "      <td>Rhodesian_ridgeback</td>\n",
       "      <td>0.072010</td>\n",
       "      <td>True</td>\n",
       "    </tr>\n",
       "    <tr>\n",
       "      <th>2</th>\n",
       "      <td>666033412701032449</td>\n",
       "      <td>https://pbs.twimg.com/media/CT4521TWwAEvMyu.jpg</td>\n",
       "      <td>1</td>\n",
       "      <td>German_shepherd</td>\n",
       "      <td>0.596461</td>\n",
       "      <td>True</td>\n",
       "      <td>malinois</td>\n",
       "      <td>0.138584</td>\n",
       "      <td>True</td>\n",
       "      <td>bloodhound</td>\n",
       "      <td>0.116197</td>\n",
       "      <td>True</td>\n",
       "    </tr>\n",
       "  </tbody>\n",
       "</table>\n",
       "</div>"
      ],
      "text/plain": [
       "             tweet_id                                          jpg_url  \\\n",
       "0  666020888022790149  https://pbs.twimg.com/media/CT4udn0WwAA0aMy.jpg   \n",
       "1  666029285002620928  https://pbs.twimg.com/media/CT42GRgUYAA5iDo.jpg   \n",
       "2  666033412701032449  https://pbs.twimg.com/media/CT4521TWwAEvMyu.jpg   \n",
       "\n",
       "   img_num                      p1   p1_conf  p1_dog                  p2  \\\n",
       "0  1        Welsh_springer_spaniel  0.465074  True    collie               \n",
       "1  1        redbone                 0.506826  True    miniature_pinscher   \n",
       "2  1        German_shepherd         0.596461  True    malinois             \n",
       "\n",
       "    p2_conf  p2_dog                   p3   p3_conf  p3_dog  \n",
       "0  0.156665  True    Shetland_sheepdog    0.061428  True    \n",
       "1  0.074192  True    Rhodesian_ridgeback  0.072010  True    \n",
       "2  0.138584  True    bloodhound           0.116197  True    "
      ]
     },
     "execution_count": 433,
     "metadata": {},
     "output_type": "execute_result"
    }
   ],
   "source": [
    "imgs.head(3)"
   ]
  },
  {
   "cell_type": "code",
   "execution_count": null,
   "metadata": {},
   "outputs": [],
   "source": []
  },
  {
   "cell_type": "markdown",
   "metadata": {},
   "source": [
    "3. Use the Tweepy library to query additional data via the Twitter API (tweet_json.txt)"
   ]
  },
  {
   "cell_type": "code",
   "execution_count": null,
   "metadata": {},
   "outputs": [],
   "source": []
  },
  {
   "cell_type": "markdown",
   "metadata": {},
   "source": [
    "import tweepy\n",
    "from tweepy import OAuthHandler\n",
    "import json\n",
    "from timeit import default_timer as timer\n",
    "\n",
    "# Query Twitter API for each tweet in the Twitter archive and save JSON in a text file\n",
    "# These are hidden to comply with Twitter's API terms and conditions\n",
    "consumer_key = 'HIDDEN'\n",
    "consumer_secret = 'HIDDEN'\n",
    "access_token = 'HIDDEN'\n",
    "access_secret = 'HIDDEN'\n",
    "\n",
    "auth = OAuthHandler(consumer_key, consumer_secret)\n",
    "auth.set_access_token(access_token, access_secret)\n",
    "\n",
    "api = tweepy.API(auth, wait_on_rate_limit=True)\n",
    "\n",
    "# NOTE TO STUDENT WITH MOBILE VERIFICATION ISSUES:\n",
    "# df_1 is a DataFrame with the twitter_archive_enhanced.csv file. You may have to\n",
    "# change line 17 to match the name of your DataFrame with twitter_archive_enhanced.csv\n",
    "# NOTE TO REVIEWER: this student had mobile verification issues so the following\n",
    "# Twitter API code was sent to this student from a Udacity instructor\n",
    "# Tweet IDs for which to gather additional data via Twitter's API\n",
    "tweet_ids = twt_arc.tweet_id.values\n",
    "len(tweet_ids)\n",
    "\n",
    "# Query Twitter's API for JSON data for each tweet ID in the Twitter archive\n",
    "count = 0\n",
    "fails_dict = {}\n",
    "start = timer()\n",
    "# Save each tweet's returned JSON as a new line in a .txt file\n",
    "with open('tweet_json.txt', 'w') as outfile:\n",
    "    # This loop will likely take 20-30 minutes to run because of Twitter's rate limit\n",
    "    for tweet_id in tweet_ids:\n",
    "        count += 1\n",
    "        print(str(count) + \": \" + str(tweet_id))\n",
    "        try:\n",
    "            tweet = api.get_status(tweet_id, tweet_mode='extended')\n",
    "            print(\"Success\")\n",
    "            json.dump(tweet._json, outfile)\n",
    "            outfile.write('\\n')\n",
    "        except AttributeError as e:\n",
    "            print(\"Fail\")\n",
    "            fails_dict[tweet_id] = e\n",
    "            pass\n",
    "end = timer()\n",
    "print(end - start)\n",
    "print(fails_dict)"
   ]
  },
  {
   "cell_type": "code",
   "execution_count": 434,
   "metadata": {},
   "outputs": [
    {
     "name": "stdout",
     "output_type": "stream",
     "text": [
      "<class 'pandas.core.frame.DataFrame'>\n",
      "RangeIndex: 2354 entries, 0 to 2353\n",
      "Data columns (total 31 columns):\n",
      " #   Column                         Non-Null Count  Dtype              \n",
      "---  ------                         --------------  -----              \n",
      " 0   created_at                     2354 non-null   datetime64[ns, UTC]\n",
      " 1   id                             2354 non-null   int64              \n",
      " 2   id_str                         2354 non-null   int64              \n",
      " 3   full_text                      2354 non-null   object             \n",
      " 4   truncated                      2354 non-null   bool               \n",
      " 5   display_text_range             2354 non-null   object             \n",
      " 6   entities                       2354 non-null   object             \n",
      " 7   extended_entities              2073 non-null   object             \n",
      " 8   source                         2354 non-null   object             \n",
      " 9   in_reply_to_status_id          78 non-null     float64            \n",
      " 10  in_reply_to_status_id_str      78 non-null     float64            \n",
      " 11  in_reply_to_user_id            78 non-null     float64            \n",
      " 12  in_reply_to_user_id_str        78 non-null     float64            \n",
      " 13  in_reply_to_screen_name        78 non-null     object             \n",
      " 14  user                           2354 non-null   object             \n",
      " 15  geo                            0 non-null      float64            \n",
      " 16  coordinates                    0 non-null      float64            \n",
      " 17  place                          1 non-null      object             \n",
      " 18  contributors                   0 non-null      float64            \n",
      " 19  is_quote_status                2354 non-null   bool               \n",
      " 20  retweet_count                  2354 non-null   int64              \n",
      " 21  favorite_count                 2354 non-null   int64              \n",
      " 22  favorited                      2354 non-null   bool               \n",
      " 23  retweeted                      2354 non-null   bool               \n",
      " 24  possibly_sensitive             2211 non-null   float64            \n",
      " 25  possibly_sensitive_appealable  2211 non-null   float64            \n",
      " 26  lang                           2354 non-null   object             \n",
      " 27  retweeted_status               179 non-null    object             \n",
      " 28  quoted_status_id               29 non-null     float64            \n",
      " 29  quoted_status_id_str           29 non-null     float64            \n",
      " 30  quoted_status                  28 non-null     object             \n",
      "dtypes: bool(4), datetime64[ns, UTC](1), float64(11), int64(4), object(11)\n",
      "memory usage: 505.9+ KB\n"
     ]
    }
   ],
   "source": [
    "json_df=pd.read_json('jsontweets.Json',lines=True)\n",
    "#json_df.head(2)\n",
    "json_df.info()"
   ]
  },
  {
   "cell_type": "code",
   "execution_count": null,
   "metadata": {},
   "outputs": [],
   "source": []
  },
  {
   "cell_type": "code",
   "execution_count": null,
   "metadata": {},
   "outputs": [],
   "source": []
  },
  {
   "cell_type": "markdown",
   "metadata": {
    "extensions": {
     "jupyter_dashboards": {
      "version": 1,
      "views": {
       "grid_default": {
        "col": 4,
        "height": 4,
        "hidden": false,
        "row": 28,
        "width": 4
       },
       "report_default": {
        "hidden": false
       }
      }
     }
    }
   },
   "source": [
    "## Assessing Data\n",
    "In this section, detect and document at least **eight (8) quality issues and two (2) tidiness issue**. You must use **both** visual assessment\n",
    "programmatic assessement to assess the data.\n",
    "\n",
    "**Note:** pay attention to the following key points when you access the data.\n",
    "\n",
    "* You only want original ratings (no retweets) that have images. Though there are 5000+ tweets in the dataset, not all are dog ratings and some are retweets.\n",
    "* Assessing and cleaning the entire dataset completely would require a lot of time, and is not necessary to practice and demonstrate your skills in data wrangling. Therefore, the requirements of this project are only to assess and clean at least 8 quality issues and at least 2 tidiness issues in this dataset.\n",
    "* The fact that the rating numerators are greater than the denominators does not need to be cleaned. This [unique rating system](http://knowyourmeme.com/memes/theyre-good-dogs-brent) is a big part of the popularity of WeRateDogs.\n",
    "* You do not need to gather the tweets beyond August 1st, 2017. You can, but note that you won't be able to gather the image predictions for these tweets since you don't have access to the algorithm used.\n",
    "\n"
   ]
  },
  {
   "cell_type": "code",
   "execution_count": null,
   "metadata": {},
   "outputs": [],
   "source": []
  },
  {
   "cell_type": "markdown",
   "metadata": {},
   "source": [
    "### Quality issues\n",
    "1.Language column contains language codes that do not exist in the twitter language coding standards\n",
    "\n",
    "2.There are columns with high amount of incomplete data\n",
    "\n",
    "3.Empty and null values stored as none should be replaced\n",
    "\n",
    "4.Time stamp in string format\n",
    "\n",
    "5.Not sufficient Data in co-ordinates column\n",
    "\n",
    "6.missing values in in_reply_to_user_id\n",
    "\n",
    "7.There appeared to be outliers in the rating_numeraator column\n",
    "\n",
    "8.Outliers in retweet_count column"
   ]
  },
  {
   "cell_type": "markdown",
   "metadata": {
    "extensions": {
     "jupyter_dashboards": {
      "version": 1,
      "views": {
       "grid_default": {
        "col": 0,
        "height": 7,
        "hidden": false,
        "row": 40,
        "width": 12
       },
       "report_default": {
        "hidden": false
       }
      }
     }
    }
   },
   "source": [
    "### Tidiness issues\n",
    "1.DOGGO,FLOOPER,PUPPER AND PUPPO are all same variable but are divided into 4 columns\n",
    "\n",
    "2.Rating numerator and denominator can be combined into one column and stored as a decimal unit\n",
    "\n",
    "3.Multiple types of observational units are stored in the same table in the twitter-archive-enhanced.csv dataset\n",
    "\n",
    "4.One observational unit spread across the datasets and must be brought into 1 dataset to have uniqueness and the redundant columns dropped.(tweets,url)"
   ]
  },
  {
   "cell_type": "markdown",
   "metadata": {
    "extensions": {
     "jupyter_dashboards": {
      "version": 1,
      "views": {
       "grid_default": {
        "col": 4,
        "height": 4,
        "hidden": false,
        "row": 32,
        "width": 4
       },
       "report_default": {
        "hidden": false
       }
      }
     }
    }
   },
   "source": [
    "## Cleaning Data\n",
    "In this section, clean **all** of the issues you documented while assessing. \n",
    "\n",
    "**Note:** Make a copy of the original data before cleaning. Cleaning includes merging individual pieces of data according to the rules of [tidy data](https://cran.r-project.org/web/packages/tidyr/vignettes/tidy-data.html). The result should be a high-quality and tidy master pandas DataFrame (or DataFrames, if appropriate)."
   ]
  },
  {
   "cell_type": "code",
   "execution_count": 435,
   "metadata": {},
   "outputs": [],
   "source": [
    "# Make copies of original pieces of data\n",
    "twt_arc2=twt_arc.copy()\n",
    "imgs2=imgs.copy()\n",
    "json_df2=json_df.copy()"
   ]
  },
  {
   "cell_type": "markdown",
   "metadata": {},
   "source": [
    "After making copies of the dataframes, i cleaned the twitter-archive-enhanced.csv in excel by \n",
    "1. ADD THE DOGGO,FLOOPER,PUPPER AND PUPPO INTO ONE COLUMN\n",
    "2. TURN TIME STAMP TO DATE TIME FORMAT AND SPLIT INTO DATE AND TIME AND DELETWD THE TIMESTAMP COLUMN\n",
    "3. ISOLATE LINK AND RATING FROM TEXT IN TEXT COLUMN\n",
    "4. DIVIDE RATING NUMERATOR BY RATING DENOMINATOR AND APPEND IT TO A COLUMN CALLED RATING\n",
    "AFTER DOING THIS I AM IMPORTING IT BACK AS THE ARC DATAFRAME BELOW"
   ]
  },
  {
   "cell_type": "code",
   "execution_count": 436,
   "metadata": {},
   "outputs": [],
   "source": [
    "arc=pd.read_excel('twitter-archive-enhanced2.xlsx',sheet_name='clean')"
   ]
  },
  {
   "cell_type": "code",
   "execution_count": 437,
   "metadata": {},
   "outputs": [
    {
     "data": {
      "text/html": [
       "<div>\n",
       "<style scoped>\n",
       "    .dataframe tbody tr th:only-of-type {\n",
       "        vertical-align: middle;\n",
       "    }\n",
       "\n",
       "    .dataframe tbody tr th {\n",
       "        vertical-align: top;\n",
       "    }\n",
       "\n",
       "    .dataframe thead th {\n",
       "        text-align: right;\n",
       "    }\n",
       "</style>\n",
       "<table border=\"1\" class=\"dataframe\">\n",
       "  <thead>\n",
       "    <tr style=\"text-align: right;\">\n",
       "      <th></th>\n",
       "      <th>tweet_id</th>\n",
       "      <th>in_reply_to_status_id</th>\n",
       "      <th>in_reply_to_user_id</th>\n",
       "      <th>date</th>\n",
       "      <th>time</th>\n",
       "      <th>source</th>\n",
       "      <th>text</th>\n",
       "      <th>retweeted_status_id</th>\n",
       "      <th>retweeted_status_user_id</th>\n",
       "      <th>retweeted_status_timestamp</th>\n",
       "      <th>expanded_urls</th>\n",
       "      <th>name</th>\n",
       "      <th>stage</th>\n",
       "      <th>rating</th>\n",
       "    </tr>\n",
       "  </thead>\n",
       "  <tbody>\n",
       "    <tr>\n",
       "      <th>0</th>\n",
       "      <td>8.924206e+17</td>\n",
       "      <td>NaN</td>\n",
       "      <td>NaN</td>\n",
       "      <td>2017-08-01</td>\n",
       "      <td>16:23:56</td>\n",
       "      <td>&lt;a href=\"http://twitter.com/download/iphone\" rel=\"nofollow\"&gt;Twitter for iPhone&lt;/a&gt;</td>\n",
       "      <td>This is Phineas. He's a mystical boy. Only ever appears in the hole of a donut. 1</td>\n",
       "      <td>NaN</td>\n",
       "      <td>NaN</td>\n",
       "      <td>NaN</td>\n",
       "      <td>https://twitter.com/dog_rates/status/892420643555336193/photo/1</td>\n",
       "      <td>Phineas</td>\n",
       "      <td>NaN</td>\n",
       "      <td>1.3</td>\n",
       "    </tr>\n",
       "    <tr>\n",
       "      <th>1</th>\n",
       "      <td>8.921774e+17</td>\n",
       "      <td>NaN</td>\n",
       "      <td>NaN</td>\n",
       "      <td>2017-08-01</td>\n",
       "      <td>00:17:27</td>\n",
       "      <td>&lt;a href=\"http://twitter.com/download/iphone\" rel=\"nofollow\"&gt;Twitter for iPhone&lt;/a&gt;</td>\n",
       "      <td>This is Tilly. She's just checking pup on you. Hopes you're doing ok. If not, she's available for pats, snugs, boops, the whole bit. 1</td>\n",
       "      <td>NaN</td>\n",
       "      <td>NaN</td>\n",
       "      <td>NaN</td>\n",
       "      <td>https://twitter.com/dog_rates/status/892177421306343426/photo/1</td>\n",
       "      <td>Tilly</td>\n",
       "      <td>NaN</td>\n",
       "      <td>1.3</td>\n",
       "    </tr>\n",
       "    <tr>\n",
       "      <th>2</th>\n",
       "      <td>8.918152e+17</td>\n",
       "      <td>NaN</td>\n",
       "      <td>NaN</td>\n",
       "      <td>2017-07-31</td>\n",
       "      <td>00:18:03</td>\n",
       "      <td>&lt;a href=\"http://twitter.com/download/iphone\" rel=\"nofollow\"&gt;Twitter for iPhone&lt;/a&gt;</td>\n",
       "      <td>This is Archie. He is a rare Norwegian Pouncing Corgo. Lives in the tall grass. You never know when one may strike. 1</td>\n",
       "      <td>NaN</td>\n",
       "      <td>NaN</td>\n",
       "      <td>NaN</td>\n",
       "      <td>https://twitter.com/dog_rates/status/891815181378084864/photo/1</td>\n",
       "      <td>Archie</td>\n",
       "      <td>NaN</td>\n",
       "      <td>1.2</td>\n",
       "    </tr>\n",
       "    <tr>\n",
       "      <th>3</th>\n",
       "      <td>8.916896e+17</td>\n",
       "      <td>NaN</td>\n",
       "      <td>NaN</td>\n",
       "      <td>2017-07-30</td>\n",
       "      <td>15:58:51</td>\n",
       "      <td>&lt;a href=\"http://twitter.com/download/iphone\" rel=\"nofollow\"&gt;Twitter for iPhone&lt;/a&gt;</td>\n",
       "      <td>This is Darla. She commenced a snooze mid meal. 1</td>\n",
       "      <td>NaN</td>\n",
       "      <td>NaN</td>\n",
       "      <td>NaN</td>\n",
       "      <td>https://twitter.com/dog_rates/status/891689557279858688/photo/1</td>\n",
       "      <td>Darla</td>\n",
       "      <td>NaN</td>\n",
       "      <td>1.3</td>\n",
       "    </tr>\n",
       "    <tr>\n",
       "      <th>4</th>\n",
       "      <td>8.913276e+17</td>\n",
       "      <td>NaN</td>\n",
       "      <td>NaN</td>\n",
       "      <td>2017-07-29</td>\n",
       "      <td>16:00:24</td>\n",
       "      <td>&lt;a href=\"http://twitter.com/download/iphone\" rel=\"nofollow\"&gt;Twitter for iPhone&lt;/a&gt;</td>\n",
       "      <td>This is Franklin. He would like you to stop calling him \"cute.\" He is a very fierce shark and should be respected as such. 1</td>\n",
       "      <td>NaN</td>\n",
       "      <td>NaN</td>\n",
       "      <td>NaN</td>\n",
       "      <td>https://twitter.com/dog_rates/status/891327558926688256/photo/1,https://twitter.com/dog_rates/status/891327558926688256/photo/1</td>\n",
       "      <td>Franklin</td>\n",
       "      <td>NaN</td>\n",
       "      <td>1.2</td>\n",
       "    </tr>\n",
       "  </tbody>\n",
       "</table>\n",
       "</div>"
      ],
      "text/plain": [
       "       tweet_id  in_reply_to_status_id  in_reply_to_user_id         date  \\\n",
       "0  8.924206e+17 NaN                    NaN                   2017-08-01    \n",
       "1  8.921774e+17 NaN                    NaN                   2017-08-01    \n",
       "2  8.918152e+17 NaN                    NaN                   2017-07-31    \n",
       "3  8.916896e+17 NaN                    NaN                   2017-07-30    \n",
       "4  8.913276e+17 NaN                    NaN                   2017-07-29    \n",
       "\n",
       "       time  \\\n",
       "0  16:23:56   \n",
       "1  00:17:27   \n",
       "2  00:18:03   \n",
       "3  15:58:51   \n",
       "4  16:00:24   \n",
       "\n",
       "                                                                               source  \\\n",
       "0  <a href=\"http://twitter.com/download/iphone\" rel=\"nofollow\">Twitter for iPhone</a>   \n",
       "1  <a href=\"http://twitter.com/download/iphone\" rel=\"nofollow\">Twitter for iPhone</a>   \n",
       "2  <a href=\"http://twitter.com/download/iphone\" rel=\"nofollow\">Twitter for iPhone</a>   \n",
       "3  <a href=\"http://twitter.com/download/iphone\" rel=\"nofollow\">Twitter for iPhone</a>   \n",
       "4  <a href=\"http://twitter.com/download/iphone\" rel=\"nofollow\">Twitter for iPhone</a>   \n",
       "\n",
       "                                                                                                                                     text  \\\n",
       "0  This is Phineas. He's a mystical boy. Only ever appears in the hole of a donut. 1                                                        \n",
       "1  This is Tilly. She's just checking pup on you. Hopes you're doing ok. If not, she's available for pats, snugs, boops, the whole bit. 1   \n",
       "2  This is Archie. He is a rare Norwegian Pouncing Corgo. Lives in the tall grass. You never know when one may strike. 1                    \n",
       "3  This is Darla. She commenced a snooze mid meal. 1                                                                                        \n",
       "4  This is Franklin. He would like you to stop calling him \"cute.\" He is a very fierce shark and should be respected as such. 1             \n",
       "\n",
       "   retweeted_status_id  retweeted_status_user_id retweeted_status_timestamp  \\\n",
       "0 NaN                  NaN                        NaN                         \n",
       "1 NaN                  NaN                        NaN                         \n",
       "2 NaN                  NaN                        NaN                         \n",
       "3 NaN                  NaN                        NaN                         \n",
       "4 NaN                  NaN                        NaN                         \n",
       "\n",
       "                                                                                                                     expanded_urls  \\\n",
       "0  https://twitter.com/dog_rates/status/892420643555336193/photo/1                                                                   \n",
       "1  https://twitter.com/dog_rates/status/892177421306343426/photo/1                                                                   \n",
       "2  https://twitter.com/dog_rates/status/891815181378084864/photo/1                                                                   \n",
       "3  https://twitter.com/dog_rates/status/891689557279858688/photo/1                                                                   \n",
       "4  https://twitter.com/dog_rates/status/891327558926688256/photo/1,https://twitter.com/dog_rates/status/891327558926688256/photo/1   \n",
       "\n",
       "       name stage  rating  \n",
       "0  Phineas   NaN   1.3     \n",
       "1  Tilly     NaN   1.3     \n",
       "2  Archie    NaN   1.2     \n",
       "3  Darla     NaN   1.3     \n",
       "4  Franklin  NaN   1.2     "
      ]
     },
     "execution_count": 437,
     "metadata": {},
     "output_type": "execute_result"
    }
   ],
   "source": [
    "arc.head()"
   ]
  },
  {
   "cell_type": "markdown",
   "metadata": {},
   "source": [
    "### Issue #1:Columns with high percentage of null values"
   ]
  },
  {
   "cell_type": "markdown",
   "metadata": {},
   "source": [
    "#### Define:There are columns with null values accounting for more than 10% of the data and would affect the analysis if not dropped so we define a function to drop codes with less than 90% null values"
   ]
  },
  {
   "cell_type": "markdown",
   "metadata": {},
   "source": [
    "#### Code"
   ]
  },
  {
   "cell_type": "code",
   "execution_count": 438,
   "metadata": {},
   "outputs": [],
   "source": [
    "#dropping the selected column list above with the 90% null value query\n",
    "\n",
    "\n",
    "def rmv(df):\n",
    "\n",
    "    for column in df.columns.values.tolist():\n",
    "      missing_values = df[column].isnull().sum()        #total missing values in a column\n",
    "      total_rows = len(df)                    \n",
    "      pomv = (missing_values/total_rows)*100            #percentage of missing val in a col\n",
    "      if pomv>95:\n",
    "         del(df[column])\n",
    "\n",
    "    return df"
   ]
  },
  {
   "cell_type": "code",
   "execution_count": 439,
   "metadata": {},
   "outputs": [],
   "source": [
    "arc=rmv(arc)"
   ]
  },
  {
   "cell_type": "code",
   "execution_count": 440,
   "metadata": {},
   "outputs": [
    {
     "name": "stdout",
     "output_type": "stream",
     "text": [
      "<class 'pandas.core.frame.DataFrame'>\n",
      "RangeIndex: 2356 entries, 0 to 2355\n",
      "Data columns (total 12 columns):\n",
      " #   Column                      Non-Null Count  Dtype  \n",
      "---  ------                      --------------  -----  \n",
      " 0   tweet_id                    2356 non-null   float64\n",
      " 1   date                        2356 non-null   object \n",
      " 2   time                        2356 non-null   object \n",
      " 3   source                      2356 non-null   object \n",
      " 4   text                        2350 non-null   object \n",
      " 5   retweeted_status_id         181 non-null    float64\n",
      " 6   retweeted_status_user_id    181 non-null    float64\n",
      " 7   retweeted_status_timestamp  181 non-null    object \n",
      " 8   expanded_urls               2297 non-null   object \n",
      " 9   name                        1611 non-null   object \n",
      " 10  stage                       380 non-null    object \n",
      " 11  rating                      2355 non-null   float64\n",
      "dtypes: float64(4), object(8)\n",
      "memory usage: 221.0+ KB\n"
     ]
    }
   ],
   "source": [
    "arc.info()"
   ]
  },
  {
   "cell_type": "markdown",
   "metadata": {},
   "source": [
    "according to the tidiness standard, i think the arc dataframe has  Multiple types of observational units are stored in the same table.Therefore i will divide the table into 2, 1 containing the tweet_id,date, time, source and text, the other containing name, stage, rating"
   ]
  },
  {
   "cell_type": "code",
   "execution_count": 441,
   "metadata": {},
   "outputs": [],
   "source": [
    "twt_info={\"tweet_id\":arc['tweet_id'],\n",
    "         \"date\":arc['date'],\n",
    "         \"text\":arc['text']}"
   ]
  },
  {
   "cell_type": "code",
   "execution_count": 442,
   "metadata": {},
   "outputs": [],
   "source": [
    "twt_info=pd.DataFrame(twt_info)"
   ]
  },
  {
   "cell_type": "code",
   "execution_count": 443,
   "metadata": {},
   "outputs": [
    {
     "data": {
      "text/html": [
       "<div>\n",
       "<style scoped>\n",
       "    .dataframe tbody tr th:only-of-type {\n",
       "        vertical-align: middle;\n",
       "    }\n",
       "\n",
       "    .dataframe tbody tr th {\n",
       "        vertical-align: top;\n",
       "    }\n",
       "\n",
       "    .dataframe thead th {\n",
       "        text-align: right;\n",
       "    }\n",
       "</style>\n",
       "<table border=\"1\" class=\"dataframe\">\n",
       "  <thead>\n",
       "    <tr style=\"text-align: right;\">\n",
       "      <th></th>\n",
       "      <th>tweet_id</th>\n",
       "      <th>date</th>\n",
       "      <th>text</th>\n",
       "    </tr>\n",
       "  </thead>\n",
       "  <tbody>\n",
       "    <tr>\n",
       "      <th>0</th>\n",
       "      <td>8.924206e+17</td>\n",
       "      <td>2017-08-01</td>\n",
       "      <td>This is Phineas. He's a mystical boy. Only ever appears in the hole of a donut. 1</td>\n",
       "    </tr>\n",
       "    <tr>\n",
       "      <th>1</th>\n",
       "      <td>8.921774e+17</td>\n",
       "      <td>2017-08-01</td>\n",
       "      <td>This is Tilly. She's just checking pup on you. Hopes you're doing ok. If not, she's available for pats, snugs, boops, the whole bit. 1</td>\n",
       "    </tr>\n",
       "    <tr>\n",
       "      <th>2</th>\n",
       "      <td>8.918152e+17</td>\n",
       "      <td>2017-07-31</td>\n",
       "      <td>This is Archie. He is a rare Norwegian Pouncing Corgo. Lives in the tall grass. You never know when one may strike. 1</td>\n",
       "    </tr>\n",
       "    <tr>\n",
       "      <th>3</th>\n",
       "      <td>8.916896e+17</td>\n",
       "      <td>2017-07-30</td>\n",
       "      <td>This is Darla. She commenced a snooze mid meal. 1</td>\n",
       "    </tr>\n",
       "    <tr>\n",
       "      <th>4</th>\n",
       "      <td>8.913276e+17</td>\n",
       "      <td>2017-07-29</td>\n",
       "      <td>This is Franklin. He would like you to stop calling him \"cute.\" He is a very fierce shark and should be respected as such. 1</td>\n",
       "    </tr>\n",
       "  </tbody>\n",
       "</table>\n",
       "</div>"
      ],
      "text/plain": [
       "       tweet_id         date  \\\n",
       "0  8.924206e+17  2017-08-01    \n",
       "1  8.921774e+17  2017-08-01    \n",
       "2  8.918152e+17  2017-07-31    \n",
       "3  8.916896e+17  2017-07-30    \n",
       "4  8.913276e+17  2017-07-29    \n",
       "\n",
       "                                                                                                                                     text  \n",
       "0  This is Phineas. He's a mystical boy. Only ever appears in the hole of a donut. 1                                                       \n",
       "1  This is Tilly. She's just checking pup on you. Hopes you're doing ok. If not, she's available for pats, snugs, boops, the whole bit. 1  \n",
       "2  This is Archie. He is a rare Norwegian Pouncing Corgo. Lives in the tall grass. You never know when one may strike. 1                   \n",
       "3  This is Darla. She commenced a snooze mid meal. 1                                                                                       \n",
       "4  This is Franklin. He would like you to stop calling him \"cute.\" He is a very fierce shark and should be respected as such. 1            "
      ]
     },
     "execution_count": 443,
     "metadata": {},
     "output_type": "execute_result"
    }
   ],
   "source": [
    "twt_info.head()"
   ]
  },
  {
   "cell_type": "code",
   "execution_count": 444,
   "metadata": {},
   "outputs": [],
   "source": [
    "dog_info={\"tweet_id\":arc['tweet_id'],\n",
    "          \"name\":arc['name'],\n",
    "         \"stage\":arc['stage'],\n",
    "         \"rating\":arc['rating']}"
   ]
  },
  {
   "cell_type": "code",
   "execution_count": 445,
   "metadata": {},
   "outputs": [],
   "source": [
    "dog_info=pd.DataFrame(dog_info)"
   ]
  },
  {
   "cell_type": "code",
   "execution_count": 446,
   "metadata": {},
   "outputs": [
    {
     "data": {
      "text/html": [
       "<div>\n",
       "<style scoped>\n",
       "    .dataframe tbody tr th:only-of-type {\n",
       "        vertical-align: middle;\n",
       "    }\n",
       "\n",
       "    .dataframe tbody tr th {\n",
       "        vertical-align: top;\n",
       "    }\n",
       "\n",
       "    .dataframe thead th {\n",
       "        text-align: right;\n",
       "    }\n",
       "</style>\n",
       "<table border=\"1\" class=\"dataframe\">\n",
       "  <thead>\n",
       "    <tr style=\"text-align: right;\">\n",
       "      <th></th>\n",
       "      <th>tweet_id</th>\n",
       "      <th>name</th>\n",
       "      <th>stage</th>\n",
       "      <th>rating</th>\n",
       "    </tr>\n",
       "  </thead>\n",
       "  <tbody>\n",
       "    <tr>\n",
       "      <th>0</th>\n",
       "      <td>8.924206e+17</td>\n",
       "      <td>Phineas</td>\n",
       "      <td>NaN</td>\n",
       "      <td>1.3</td>\n",
       "    </tr>\n",
       "    <tr>\n",
       "      <th>1</th>\n",
       "      <td>8.921774e+17</td>\n",
       "      <td>Tilly</td>\n",
       "      <td>NaN</td>\n",
       "      <td>1.3</td>\n",
       "    </tr>\n",
       "    <tr>\n",
       "      <th>2</th>\n",
       "      <td>8.918152e+17</td>\n",
       "      <td>Archie</td>\n",
       "      <td>NaN</td>\n",
       "      <td>1.2</td>\n",
       "    </tr>\n",
       "    <tr>\n",
       "      <th>3</th>\n",
       "      <td>8.916896e+17</td>\n",
       "      <td>Darla</td>\n",
       "      <td>NaN</td>\n",
       "      <td>1.3</td>\n",
       "    </tr>\n",
       "    <tr>\n",
       "      <th>4</th>\n",
       "      <td>8.913276e+17</td>\n",
       "      <td>Franklin</td>\n",
       "      <td>NaN</td>\n",
       "      <td>1.2</td>\n",
       "    </tr>\n",
       "  </tbody>\n",
       "</table>\n",
       "</div>"
      ],
      "text/plain": [
       "       tweet_id      name stage  rating\n",
       "0  8.924206e+17  Phineas   NaN   1.3   \n",
       "1  8.921774e+17  Tilly     NaN   1.3   \n",
       "2  8.918152e+17  Archie    NaN   1.2   \n",
       "3  8.916896e+17  Darla     NaN   1.3   \n",
       "4  8.913276e+17  Franklin  NaN   1.2   "
      ]
     },
     "execution_count": 446,
     "metadata": {},
     "output_type": "execute_result"
    }
   ],
   "source": [
    "dog_info.head()"
   ]
  },
  {
   "cell_type": "code",
   "execution_count": 447,
   "metadata": {},
   "outputs": [],
   "source": [
    "json_df=rmv(json_df)\n"
   ]
  },
  {
   "cell_type": "code",
   "execution_count": null,
   "metadata": {},
   "outputs": [],
   "source": []
  },
  {
   "cell_type": "markdown",
   "metadata": {},
   "source": [
    "#### Test"
   ]
  },
  {
   "cell_type": "code",
   "execution_count": 448,
   "metadata": {},
   "outputs": [
    {
     "name": "stdout",
     "output_type": "stream",
     "text": [
      "<class 'pandas.core.frame.DataFrame'>\n",
      "RangeIndex: 2354 entries, 0 to 2353\n",
      "Data columns (total 19 columns):\n",
      " #   Column                         Non-Null Count  Dtype              \n",
      "---  ------                         --------------  -----              \n",
      " 0   created_at                     2354 non-null   datetime64[ns, UTC]\n",
      " 1   id                             2354 non-null   int64              \n",
      " 2   id_str                         2354 non-null   int64              \n",
      " 3   full_text                      2354 non-null   object             \n",
      " 4   truncated                      2354 non-null   bool               \n",
      " 5   display_text_range             2354 non-null   object             \n",
      " 6   entities                       2354 non-null   object             \n",
      " 7   extended_entities              2073 non-null   object             \n",
      " 8   source                         2354 non-null   object             \n",
      " 9   user                           2354 non-null   object             \n",
      " 10  is_quote_status                2354 non-null   bool               \n",
      " 11  retweet_count                  2354 non-null   int64              \n",
      " 12  favorite_count                 2354 non-null   int64              \n",
      " 13  favorited                      2354 non-null   bool               \n",
      " 14  retweeted                      2354 non-null   bool               \n",
      " 15  possibly_sensitive             2211 non-null   float64            \n",
      " 16  possibly_sensitive_appealable  2211 non-null   float64            \n",
      " 17  lang                           2354 non-null   object             \n",
      " 18  retweeted_status               179 non-null    object             \n",
      "dtypes: bool(4), datetime64[ns, UTC](1), float64(2), int64(4), object(8)\n",
      "memory usage: 285.2+ KB\n"
     ]
    }
   ],
   "source": [
    "json_df.info()"
   ]
  },
  {
   "cell_type": "code",
   "execution_count": null,
   "metadata": {},
   "outputs": [],
   "source": []
  },
  {
   "cell_type": "markdown",
   "metadata": {},
   "source": [
    "### Issue #2:Some breeds are invalid or where not predicted well in the imgs dataframe"
   ]
  },
  {
   "cell_type": "markdown",
   "metadata": {
    "collapsed": true,
    "extensions": {
     "jupyter_dashboards": {
      "version": 1,
      "views": {
       "grid_default": {
        "hidden": true
       },
       "report_default": {
        "hidden": true
       }
      }
     }
    }
   },
   "source": [
    "#### Define:Some of the breed where not predicted correctly because of some obstructions in the picture or other factors so we use an external dataset of dog breed to compare and clean out the erroneous breeds"
   ]
  },
  {
   "cell_type": "markdown",
   "metadata": {},
   "source": [
    "#### Code"
   ]
  },
  {
   "cell_type": "markdown",
   "metadata": {},
   "source": [
    "IMGS DATAFRAME"
   ]
  },
  {
   "cell_type": "code",
   "execution_count": 449,
   "metadata": {},
   "outputs": [
    {
     "data": {
      "text/html": [
       "<div>\n",
       "<style scoped>\n",
       "    .dataframe tbody tr th:only-of-type {\n",
       "        vertical-align: middle;\n",
       "    }\n",
       "\n",
       "    .dataframe tbody tr th {\n",
       "        vertical-align: top;\n",
       "    }\n",
       "\n",
       "    .dataframe thead th {\n",
       "        text-align: right;\n",
       "    }\n",
       "</style>\n",
       "<table border=\"1\" class=\"dataframe\">\n",
       "  <thead>\n",
       "    <tr style=\"text-align: right;\">\n",
       "      <th></th>\n",
       "      <th>tweet_id</th>\n",
       "      <th>jpg_url</th>\n",
       "      <th>img_num</th>\n",
       "      <th>p1</th>\n",
       "      <th>p1_conf</th>\n",
       "      <th>p1_dog</th>\n",
       "      <th>p2</th>\n",
       "      <th>p2_conf</th>\n",
       "      <th>p2_dog</th>\n",
       "      <th>p3</th>\n",
       "      <th>p3_conf</th>\n",
       "      <th>p3_dog</th>\n",
       "    </tr>\n",
       "  </thead>\n",
       "  <tbody>\n",
       "    <tr>\n",
       "      <th>0</th>\n",
       "      <td>666020888022790149</td>\n",
       "      <td>https://pbs.twimg.com/media/CT4udn0WwAA0aMy.jpg</td>\n",
       "      <td>1</td>\n",
       "      <td>Welsh_springer_spaniel</td>\n",
       "      <td>0.465074</td>\n",
       "      <td>True</td>\n",
       "      <td>collie</td>\n",
       "      <td>0.156665</td>\n",
       "      <td>True</td>\n",
       "      <td>Shetland_sheepdog</td>\n",
       "      <td>0.061428</td>\n",
       "      <td>True</td>\n",
       "    </tr>\n",
       "    <tr>\n",
       "      <th>1</th>\n",
       "      <td>666029285002620928</td>\n",
       "      <td>https://pbs.twimg.com/media/CT42GRgUYAA5iDo.jpg</td>\n",
       "      <td>1</td>\n",
       "      <td>redbone</td>\n",
       "      <td>0.506826</td>\n",
       "      <td>True</td>\n",
       "      <td>miniature_pinscher</td>\n",
       "      <td>0.074192</td>\n",
       "      <td>True</td>\n",
       "      <td>Rhodesian_ridgeback</td>\n",
       "      <td>0.072010</td>\n",
       "      <td>True</td>\n",
       "    </tr>\n",
       "    <tr>\n",
       "      <th>2</th>\n",
       "      <td>666033412701032449</td>\n",
       "      <td>https://pbs.twimg.com/media/CT4521TWwAEvMyu.jpg</td>\n",
       "      <td>1</td>\n",
       "      <td>German_shepherd</td>\n",
       "      <td>0.596461</td>\n",
       "      <td>True</td>\n",
       "      <td>malinois</td>\n",
       "      <td>0.138584</td>\n",
       "      <td>True</td>\n",
       "      <td>bloodhound</td>\n",
       "      <td>0.116197</td>\n",
       "      <td>True</td>\n",
       "    </tr>\n",
       "  </tbody>\n",
       "</table>\n",
       "</div>"
      ],
      "text/plain": [
       "             tweet_id                                          jpg_url  \\\n",
       "0  666020888022790149  https://pbs.twimg.com/media/CT4udn0WwAA0aMy.jpg   \n",
       "1  666029285002620928  https://pbs.twimg.com/media/CT42GRgUYAA5iDo.jpg   \n",
       "2  666033412701032449  https://pbs.twimg.com/media/CT4521TWwAEvMyu.jpg   \n",
       "\n",
       "   img_num                      p1   p1_conf  p1_dog                  p2  \\\n",
       "0  1        Welsh_springer_spaniel  0.465074  True    collie               \n",
       "1  1        redbone                 0.506826  True    miniature_pinscher   \n",
       "2  1        German_shepherd         0.596461  True    malinois             \n",
       "\n",
       "    p2_conf  p2_dog                   p3   p3_conf  p3_dog  \n",
       "0  0.156665  True    Shetland_sheepdog    0.061428  True    \n",
       "1  0.074192  True    Rhodesian_ridgeback  0.072010  True    \n",
       "2  0.138584  True    bloodhound           0.116197  True    "
      ]
     },
     "execution_count": 449,
     "metadata": {},
     "output_type": "execute_result"
    }
   ],
   "source": [
    "imgs.head(3)"
   ]
  },
  {
   "cell_type": "markdown",
   "metadata": {},
   "source": [
    "IMPORTING THE EXTERNAL DATASET"
   ]
  },
  {
   "cell_type": "code",
   "execution_count": 450,
   "metadata": {},
   "outputs": [
    {
     "data": {
      "text/html": [
       "<div>\n",
       "<style scoped>\n",
       "    .dataframe tbody tr th:only-of-type {\n",
       "        vertical-align: middle;\n",
       "    }\n",
       "\n",
       "    .dataframe tbody tr th {\n",
       "        vertical-align: top;\n",
       "    }\n",
       "\n",
       "    .dataframe thead th {\n",
       "        text-align: right;\n",
       "    }\n",
       "</style>\n",
       "<table border=\"1\" class=\"dataframe\">\n",
       "  <thead>\n",
       "    <tr style=\"text-align: right;\">\n",
       "      <th></th>\n",
       "      <th>id</th>\n",
       "      <th>name</th>\n",
       "      <th>group</th>\n",
       "      <th>section</th>\n",
       "      <th>provisional</th>\n",
       "      <th>country</th>\n",
       "      <th>url</th>\n",
       "      <th>image</th>\n",
       "      <th>pdf</th>\n",
       "    </tr>\n",
       "  </thead>\n",
       "  <tbody>\n",
       "    <tr>\n",
       "      <th>0</th>\n",
       "      <td>1</td>\n",
       "      <td>ENGLISH POINTER</td>\n",
       "      <td>Pointing Dogs</td>\n",
       "      <td>British and Irish Pointers and Setters</td>\n",
       "      <td>NaN</td>\n",
       "      <td>GREAT BRITAIN</td>\n",
       "      <td>http://www.fci.be/en/nomenclature/ENGLISH-POINTER-1.html</td>\n",
       "      <td>http://www.fci.be/Nomenclature/Illustrations/001g07.jpg</td>\n",
       "      <td>http://www.fci.be/Nomenclature/Standards/001g07-en.pdf</td>\n",
       "    </tr>\n",
       "    <tr>\n",
       "      <th>1</th>\n",
       "      <td>2</td>\n",
       "      <td>ENGLISH SETTER</td>\n",
       "      <td>Pointing Dogs</td>\n",
       "      <td>British and Irish Pointers and Setters</td>\n",
       "      <td>NaN</td>\n",
       "      <td>GREAT BRITAIN</td>\n",
       "      <td>http://www.fci.be/en/nomenclature/ENGLISH-SETTER-2.html</td>\n",
       "      <td>http://www.fci.be/Nomenclature/Illustrations/002g07.jpg</td>\n",
       "      <td>http://www.fci.be/Nomenclature/Standards/002g07-en.pdf</td>\n",
       "    </tr>\n",
       "    <tr>\n",
       "      <th>2</th>\n",
       "      <td>3</td>\n",
       "      <td>KERRY BLUE TERRIER</td>\n",
       "      <td>Terriers</td>\n",
       "      <td>Large and medium sized Terriers</td>\n",
       "      <td>NaN</td>\n",
       "      <td>IRELAND</td>\n",
       "      <td>http://www.fci.be/en/nomenclature/KERRY-BLUE-TERRIER-3.html</td>\n",
       "      <td>NaN</td>\n",
       "      <td>http://www.fci.be/Nomenclature/Standards/003g03-en.pdf</td>\n",
       "    </tr>\n",
       "    <tr>\n",
       "      <th>3</th>\n",
       "      <td>4</td>\n",
       "      <td>CAIRN TERRIER</td>\n",
       "      <td>Terriers</td>\n",
       "      <td>Small sized Terriers</td>\n",
       "      <td>NaN</td>\n",
       "      <td>GREAT BRITAIN</td>\n",
       "      <td>http://www.fci.be/en/nomenclature/CAIRN-TERRIER-4.html</td>\n",
       "      <td>http://www.fci.be/Nomenclature/Illustrations/004g03.jpg</td>\n",
       "      <td>http://www.fci.be/Nomenclature/Standards/004g03-en.pdf</td>\n",
       "    </tr>\n",
       "    <tr>\n",
       "      <th>4</th>\n",
       "      <td>5</td>\n",
       "      <td>ENGLISH COCKER SPANIEL</td>\n",
       "      <td>Retrievers</td>\n",
       "      <td>Flushing Dogs</td>\n",
       "      <td>NaN</td>\n",
       "      <td>GREAT BRITAIN</td>\n",
       "      <td>http://www.fci.be/en/nomenclature/ENGLISH-COCKER-SPANIEL-5.html</td>\n",
       "      <td>http://www.fci.be/Nomenclature/Illustrations/005g08.jpg</td>\n",
       "      <td>http://www.fci.be/Nomenclature/Standards/005g08-en.pdf</td>\n",
       "    </tr>\n",
       "  </tbody>\n",
       "</table>\n",
       "</div>"
      ],
      "text/plain": [
       "   id                    name          group  \\\n",
       "0  1   ENGLISH POINTER         Pointing Dogs   \n",
       "1  2   ENGLISH SETTER          Pointing Dogs   \n",
       "2  3   KERRY BLUE TERRIER      Terriers        \n",
       "3  4   CAIRN TERRIER           Terriers        \n",
       "4  5   ENGLISH COCKER SPANIEL  Retrievers      \n",
       "\n",
       "                                  section provisional        country  \\\n",
       "0  British and Irish Pointers and Setters  NaN         GREAT BRITAIN   \n",
       "1  British and Irish Pointers and Setters  NaN         GREAT BRITAIN   \n",
       "2  Large and medium sized Terriers         NaN         IRELAND         \n",
       "3  Small sized Terriers                    NaN         GREAT BRITAIN   \n",
       "4  Flushing Dogs                           NaN         GREAT BRITAIN   \n",
       "\n",
       "                                                               url  \\\n",
       "0  http://www.fci.be/en/nomenclature/ENGLISH-POINTER-1.html          \n",
       "1  http://www.fci.be/en/nomenclature/ENGLISH-SETTER-2.html           \n",
       "2  http://www.fci.be/en/nomenclature/KERRY-BLUE-TERRIER-3.html       \n",
       "3  http://www.fci.be/en/nomenclature/CAIRN-TERRIER-4.html            \n",
       "4  http://www.fci.be/en/nomenclature/ENGLISH-COCKER-SPANIEL-5.html   \n",
       "\n",
       "                                                     image  \\\n",
       "0  http://www.fci.be/Nomenclature/Illustrations/001g07.jpg   \n",
       "1  http://www.fci.be/Nomenclature/Illustrations/002g07.jpg   \n",
       "2  NaN                                                       \n",
       "3  http://www.fci.be/Nomenclature/Illustrations/004g03.jpg   \n",
       "4  http://www.fci.be/Nomenclature/Illustrations/005g08.jpg   \n",
       "\n",
       "                                                      pdf  \n",
       "0  http://www.fci.be/Nomenclature/Standards/001g07-en.pdf  \n",
       "1  http://www.fci.be/Nomenclature/Standards/002g07-en.pdf  \n",
       "2  http://www.fci.be/Nomenclature/Standards/003g03-en.pdf  \n",
       "3  http://www.fci.be/Nomenclature/Standards/004g03-en.pdf  \n",
       "4  http://www.fci.be/Nomenclature/Standards/005g08-en.pdf  "
      ]
     },
     "execution_count": 450,
     "metadata": {},
     "output_type": "execute_result"
    }
   ],
   "source": [
    "db = pd.read_csv('https://raw.githubusercontent.com/paiv/fci-breeds/main/fci-breeds.csv')\n",
    "db.head()"
   ]
  },
  {
   "cell_type": "markdown",
   "metadata": {},
   "source": [
    "In the p1, p2 and p3 columns, the dog names start with capital letters and are seperated by underscore however, in our dog breeds database the dog breeds are in caps and are seperated by space so we will make the p1,p2 and p3 to be in the same format with the dog breeds column in the dog breeds database"
   ]
  },
  {
   "cell_type": "code",
   "execution_count": 451,
   "metadata": {},
   "outputs": [],
   "source": [
    "#Building a helper function to replace '_' with ' ' and convert all to uppercase\n",
    "\n",
    "def refr(breed):\n",
    "    \n",
    "    breed = breed.replace('_', ' ')\n",
    "    breed = breed.upper()\n",
    "    \n",
    "    return breed"
   ]
  },
  {
   "cell_type": "markdown",
   "metadata": {},
   "source": [
    "To compare the p1,p2,p3 with the name column of the db dataframe"
   ]
  },
  {
   "cell_type": "code",
   "execution_count": 452,
   "metadata": {},
   "outputs": [],
   "source": [
    "confd = []\n",
    "\n",
    "for bn in range (len(imgs)):\n",
    "    brd = imgs['p1'][bn]\n",
    "    brd = refr(brd)\n",
    "    if brd in db['name'].values.tolist():\n",
    "      confd.append(brd)\n",
    "\n",
    "    elif  brd in db['name'].values.tolist() == False and refr(imgs['p2'][bn]) in db['name'].values.tolist()==True:\n",
    "      brd = refr(imgs['p2'][bn])\n",
    "      confd.append(brd)\n",
    "\n",
    "    elif brd in db['name'].values.tolist() == False and refr(imgs['p2'][bn]) in db['name'].values.tolist()==False and refr(imgs['p3'][bn]) in db['name'].values.tolist()==True:\n",
    "      confd.append(refr(imgs['p3'][bn]))\n",
    "    else:\n",
    "      brd = 'nan'\n",
    "      confd.append(brd)"
   ]
  },
  {
   "cell_type": "code",
   "execution_count": 453,
   "metadata": {},
   "outputs": [
    {
     "data": {
      "text/plain": [
       "(2075, (2075, 12))"
      ]
     },
     "execution_count": 453,
     "metadata": {},
     "output_type": "execute_result"
    }
   ],
   "source": [
    "#to check\n",
    "len(confd), imgs.shape"
   ]
  },
  {
   "cell_type": "markdown",
   "metadata": {},
   "source": [
    "WE WILL BE REPLACING P1 WITH THE LIST OF CORRECT BREEDS"
   ]
  },
  {
   "cell_type": "code",
   "execution_count": 454,
   "metadata": {},
   "outputs": [
    {
     "data": {
      "text/html": [
       "<div>\n",
       "<style scoped>\n",
       "    .dataframe tbody tr th:only-of-type {\n",
       "        vertical-align: middle;\n",
       "    }\n",
       "\n",
       "    .dataframe tbody tr th {\n",
       "        vertical-align: top;\n",
       "    }\n",
       "\n",
       "    .dataframe thead th {\n",
       "        text-align: right;\n",
       "    }\n",
       "</style>\n",
       "<table border=\"1\" class=\"dataframe\">\n",
       "  <thead>\n",
       "    <tr style=\"text-align: right;\">\n",
       "      <th></th>\n",
       "      <th>tweet_id</th>\n",
       "      <th>jpg_url</th>\n",
       "      <th>img_num</th>\n",
       "      <th>p1</th>\n",
       "      <th>p1_conf</th>\n",
       "      <th>p1_dog</th>\n",
       "      <th>p2</th>\n",
       "      <th>p2_conf</th>\n",
       "      <th>p2_dog</th>\n",
       "      <th>p3</th>\n",
       "      <th>p3_conf</th>\n",
       "      <th>p3_dog</th>\n",
       "    </tr>\n",
       "  </thead>\n",
       "  <tbody>\n",
       "    <tr>\n",
       "      <th>0</th>\n",
       "      <td>666020888022790149</td>\n",
       "      <td>https://pbs.twimg.com/media/CT4udn0WwAA0aMy.jpg</td>\n",
       "      <td>1</td>\n",
       "      <td>WELSH SPRINGER SPANIEL</td>\n",
       "      <td>0.465074</td>\n",
       "      <td>True</td>\n",
       "      <td>collie</td>\n",
       "      <td>0.156665</td>\n",
       "      <td>True</td>\n",
       "      <td>Shetland_sheepdog</td>\n",
       "      <td>0.061428</td>\n",
       "      <td>True</td>\n",
       "    </tr>\n",
       "    <tr>\n",
       "      <th>1</th>\n",
       "      <td>666029285002620928</td>\n",
       "      <td>https://pbs.twimg.com/media/CT42GRgUYAA5iDo.jpg</td>\n",
       "      <td>1</td>\n",
       "      <td>nan</td>\n",
       "      <td>0.506826</td>\n",
       "      <td>True</td>\n",
       "      <td>miniature_pinscher</td>\n",
       "      <td>0.074192</td>\n",
       "      <td>True</td>\n",
       "      <td>Rhodesian_ridgeback</td>\n",
       "      <td>0.072010</td>\n",
       "      <td>True</td>\n",
       "    </tr>\n",
       "    <tr>\n",
       "      <th>2</th>\n",
       "      <td>666033412701032449</td>\n",
       "      <td>https://pbs.twimg.com/media/CT4521TWwAEvMyu.jpg</td>\n",
       "      <td>1</td>\n",
       "      <td>nan</td>\n",
       "      <td>0.596461</td>\n",
       "      <td>True</td>\n",
       "      <td>malinois</td>\n",
       "      <td>0.138584</td>\n",
       "      <td>True</td>\n",
       "      <td>bloodhound</td>\n",
       "      <td>0.116197</td>\n",
       "      <td>True</td>\n",
       "    </tr>\n",
       "    <tr>\n",
       "      <th>3</th>\n",
       "      <td>666044226329800704</td>\n",
       "      <td>https://pbs.twimg.com/media/CT5Dr8HUEAA-lEu.jpg</td>\n",
       "      <td>1</td>\n",
       "      <td>RHODESIAN RIDGEBACK</td>\n",
       "      <td>0.408143</td>\n",
       "      <td>True</td>\n",
       "      <td>redbone</td>\n",
       "      <td>0.360687</td>\n",
       "      <td>True</td>\n",
       "      <td>miniature_pinscher</td>\n",
       "      <td>0.222752</td>\n",
       "      <td>True</td>\n",
       "    </tr>\n",
       "    <tr>\n",
       "      <th>4</th>\n",
       "      <td>666049248165822465</td>\n",
       "      <td>https://pbs.twimg.com/media/CT5IQmsXIAAKY4A.jpg</td>\n",
       "      <td>1</td>\n",
       "      <td>MINIATURE PINSCHER</td>\n",
       "      <td>0.560311</td>\n",
       "      <td>True</td>\n",
       "      <td>Rottweiler</td>\n",
       "      <td>0.243682</td>\n",
       "      <td>True</td>\n",
       "      <td>Doberman</td>\n",
       "      <td>0.154629</td>\n",
       "      <td>True</td>\n",
       "    </tr>\n",
       "  </tbody>\n",
       "</table>\n",
       "</div>"
      ],
      "text/plain": [
       "             tweet_id                                          jpg_url  \\\n",
       "0  666020888022790149  https://pbs.twimg.com/media/CT4udn0WwAA0aMy.jpg   \n",
       "1  666029285002620928  https://pbs.twimg.com/media/CT42GRgUYAA5iDo.jpg   \n",
       "2  666033412701032449  https://pbs.twimg.com/media/CT4521TWwAEvMyu.jpg   \n",
       "3  666044226329800704  https://pbs.twimg.com/media/CT5Dr8HUEAA-lEu.jpg   \n",
       "4  666049248165822465  https://pbs.twimg.com/media/CT5IQmsXIAAKY4A.jpg   \n",
       "\n",
       "   img_num                      p1   p1_conf  p1_dog                  p2  \\\n",
       "0  1        WELSH SPRINGER SPANIEL  0.465074  True    collie               \n",
       "1  1        nan                     0.506826  True    miniature_pinscher   \n",
       "2  1        nan                     0.596461  True    malinois             \n",
       "3  1        RHODESIAN RIDGEBACK     0.408143  True    redbone              \n",
       "4  1        MINIATURE PINSCHER      0.560311  True    Rottweiler           \n",
       "\n",
       "    p2_conf  p2_dog                   p3   p3_conf  p3_dog  \n",
       "0  0.156665  True    Shetland_sheepdog    0.061428  True    \n",
       "1  0.074192  True    Rhodesian_ridgeback  0.072010  True    \n",
       "2  0.138584  True    bloodhound           0.116197  True    \n",
       "3  0.360687  True    miniature_pinscher   0.222752  True    \n",
       "4  0.243682  True    Doberman             0.154629  True    "
      ]
     },
     "execution_count": 454,
     "metadata": {},
     "output_type": "execute_result"
    }
   ],
   "source": [
    "imgs['p1'] = confd\n",
    "imgs.head()"
   ]
  },
  {
   "cell_type": "code",
   "execution_count": 455,
   "metadata": {},
   "outputs": [
    {
     "data": {
      "text/plain": [
       "Index(['tweet_id', 'jpg_url', 'img_num', 'p1', 'p1_conf', 'p1_dog', 'p2',\n",
       "       'p2_conf', 'p2_dog', 'p3', 'p3_conf', 'p3_dog'],\n",
       "      dtype='object')"
      ]
     },
     "execution_count": 455,
     "metadata": {},
     "output_type": "execute_result"
    }
   ],
   "source": [
    "imgs.columns"
   ]
  },
  {
   "cell_type": "markdown",
   "metadata": {},
   "source": [
    "since we have our accurate breeds in p1, we will be droppind p2&p3 with their confidence intervals"
   ]
  },
  {
   "cell_type": "code",
   "execution_count": 456,
   "metadata": {},
   "outputs": [],
   "source": [
    "imgs.drop([ 'p2',\n",
    "       'p2_conf', 'p2_dog', 'p3', 'p3_conf', 'p3_dog'],axis=1, inplace=True)"
   ]
  },
  {
   "cell_type": "code",
   "execution_count": null,
   "metadata": {},
   "outputs": [],
   "source": []
  },
  {
   "cell_type": "markdown",
   "metadata": {},
   "source": [
    "#### Test"
   ]
  },
  {
   "cell_type": "code",
   "execution_count": 457,
   "metadata": {},
   "outputs": [
    {
     "data": {
      "text/html": [
       "<div>\n",
       "<style scoped>\n",
       "    .dataframe tbody tr th:only-of-type {\n",
       "        vertical-align: middle;\n",
       "    }\n",
       "\n",
       "    .dataframe tbody tr th {\n",
       "        vertical-align: top;\n",
       "    }\n",
       "\n",
       "    .dataframe thead th {\n",
       "        text-align: right;\n",
       "    }\n",
       "</style>\n",
       "<table border=\"1\" class=\"dataframe\">\n",
       "  <thead>\n",
       "    <tr style=\"text-align: right;\">\n",
       "      <th></th>\n",
       "      <th>tweet_id</th>\n",
       "      <th>jpg_url</th>\n",
       "      <th>img_num</th>\n",
       "      <th>p1</th>\n",
       "      <th>p1_conf</th>\n",
       "      <th>p1_dog</th>\n",
       "    </tr>\n",
       "  </thead>\n",
       "  <tbody>\n",
       "    <tr>\n",
       "      <th>0</th>\n",
       "      <td>666020888022790149</td>\n",
       "      <td>https://pbs.twimg.com/media/CT4udn0WwAA0aMy.jpg</td>\n",
       "      <td>1</td>\n",
       "      <td>WELSH SPRINGER SPANIEL</td>\n",
       "      <td>0.465074</td>\n",
       "      <td>True</td>\n",
       "    </tr>\n",
       "    <tr>\n",
       "      <th>1</th>\n",
       "      <td>666029285002620928</td>\n",
       "      <td>https://pbs.twimg.com/media/CT42GRgUYAA5iDo.jpg</td>\n",
       "      <td>1</td>\n",
       "      <td>nan</td>\n",
       "      <td>0.506826</td>\n",
       "      <td>True</td>\n",
       "    </tr>\n",
       "    <tr>\n",
       "      <th>2</th>\n",
       "      <td>666033412701032449</td>\n",
       "      <td>https://pbs.twimg.com/media/CT4521TWwAEvMyu.jpg</td>\n",
       "      <td>1</td>\n",
       "      <td>nan</td>\n",
       "      <td>0.596461</td>\n",
       "      <td>True</td>\n",
       "    </tr>\n",
       "    <tr>\n",
       "      <th>3</th>\n",
       "      <td>666044226329800704</td>\n",
       "      <td>https://pbs.twimg.com/media/CT5Dr8HUEAA-lEu.jpg</td>\n",
       "      <td>1</td>\n",
       "      <td>RHODESIAN RIDGEBACK</td>\n",
       "      <td>0.408143</td>\n",
       "      <td>True</td>\n",
       "    </tr>\n",
       "    <tr>\n",
       "      <th>4</th>\n",
       "      <td>666049248165822465</td>\n",
       "      <td>https://pbs.twimg.com/media/CT5IQmsXIAAKY4A.jpg</td>\n",
       "      <td>1</td>\n",
       "      <td>MINIATURE PINSCHER</td>\n",
       "      <td>0.560311</td>\n",
       "      <td>True</td>\n",
       "    </tr>\n",
       "  </tbody>\n",
       "</table>\n",
       "</div>"
      ],
      "text/plain": [
       "             tweet_id                                          jpg_url  \\\n",
       "0  666020888022790149  https://pbs.twimg.com/media/CT4udn0WwAA0aMy.jpg   \n",
       "1  666029285002620928  https://pbs.twimg.com/media/CT42GRgUYAA5iDo.jpg   \n",
       "2  666033412701032449  https://pbs.twimg.com/media/CT4521TWwAEvMyu.jpg   \n",
       "3  666044226329800704  https://pbs.twimg.com/media/CT5Dr8HUEAA-lEu.jpg   \n",
       "4  666049248165822465  https://pbs.twimg.com/media/CT5IQmsXIAAKY4A.jpg   \n",
       "\n",
       "   img_num                      p1   p1_conf  p1_dog  \n",
       "0  1        WELSH SPRINGER SPANIEL  0.465074  True    \n",
       "1  1        nan                     0.506826  True    \n",
       "2  1        nan                     0.596461  True    \n",
       "3  1        RHODESIAN RIDGEBACK     0.408143  True    \n",
       "4  1        MINIATURE PINSCHER      0.560311  True    "
      ]
     },
     "execution_count": 457,
     "metadata": {},
     "output_type": "execute_result"
    }
   ],
   "source": [
    "imgs.head()"
   ]
  },
  {
   "cell_type": "code",
   "execution_count": null,
   "metadata": {},
   "outputs": [],
   "source": []
  },
  {
   "cell_type": "markdown",
   "metadata": {},
   "source": [
    "JSON DATASET CONTAINING NESTED ENTITIES AND IRRELEVANT COLUMNS\n"
   ]
  },
  {
   "cell_type": "code",
   "execution_count": 458,
   "metadata": {},
   "outputs": [
    {
     "data": {
      "text/plain": [
       "Index(['created_at', 'id', 'id_str', 'full_text', 'truncated',\n",
       "       'display_text_range', 'entities', 'extended_entities', 'source', 'user',\n",
       "       'is_quote_status', 'retweet_count', 'favorite_count', 'favorited',\n",
       "       'retweeted', 'possibly_sensitive', 'possibly_sensitive_appealable',\n",
       "       'lang', 'retweeted_status'],\n",
       "      dtype='object')"
      ]
     },
     "execution_count": 458,
     "metadata": {},
     "output_type": "execute_result"
    }
   ],
   "source": [
    "json_df.columns"
   ]
  },
  {
   "cell_type": "markdown",
   "metadata": {},
   "source": [
    "we only need the 'id','id_str','retweet_count' and favorite_count from the json dataframe"
   ]
  },
  {
   "cell_type": "code",
   "execution_count": 459,
   "metadata": {},
   "outputs": [],
   "source": [
    "json_df={\"id\":json_df['id'],\n",
    "        \"id2\":json_df['id_str'],\n",
    "        \"retweet_count\":json_df['retweet_count'],\n",
    "        \"likes\":json_df['favorite_count']}"
   ]
  },
  {
   "cell_type": "code",
   "execution_count": 460,
   "metadata": {},
   "outputs": [],
   "source": [
    "json_df=pd.DataFrame(json_df)"
   ]
  },
  {
   "cell_type": "code",
   "execution_count": 461,
   "metadata": {},
   "outputs": [
    {
     "data": {
      "text/html": [
       "<div>\n",
       "<style scoped>\n",
       "    .dataframe tbody tr th:only-of-type {\n",
       "        vertical-align: middle;\n",
       "    }\n",
       "\n",
       "    .dataframe tbody tr th {\n",
       "        vertical-align: top;\n",
       "    }\n",
       "\n",
       "    .dataframe thead th {\n",
       "        text-align: right;\n",
       "    }\n",
       "</style>\n",
       "<table border=\"1\" class=\"dataframe\">\n",
       "  <thead>\n",
       "    <tr style=\"text-align: right;\">\n",
       "      <th></th>\n",
       "      <th>id</th>\n",
       "      <th>id2</th>\n",
       "      <th>retweet_count</th>\n",
       "      <th>likes</th>\n",
       "    </tr>\n",
       "  </thead>\n",
       "  <tbody>\n",
       "    <tr>\n",
       "      <th>0</th>\n",
       "      <td>892420643555336193</td>\n",
       "      <td>892420643555336192</td>\n",
       "      <td>8853</td>\n",
       "      <td>39467</td>\n",
       "    </tr>\n",
       "    <tr>\n",
       "      <th>1</th>\n",
       "      <td>892177421306343426</td>\n",
       "      <td>892177421306343424</td>\n",
       "      <td>6514</td>\n",
       "      <td>33819</td>\n",
       "    </tr>\n",
       "    <tr>\n",
       "      <th>2</th>\n",
       "      <td>891815181378084864</td>\n",
       "      <td>891815181378084864</td>\n",
       "      <td>4328</td>\n",
       "      <td>25461</td>\n",
       "    </tr>\n",
       "    <tr>\n",
       "      <th>3</th>\n",
       "      <td>891689557279858688</td>\n",
       "      <td>891689557279858688</td>\n",
       "      <td>8964</td>\n",
       "      <td>42908</td>\n",
       "    </tr>\n",
       "    <tr>\n",
       "      <th>4</th>\n",
       "      <td>891327558926688256</td>\n",
       "      <td>891327558926688256</td>\n",
       "      <td>9774</td>\n",
       "      <td>41048</td>\n",
       "    </tr>\n",
       "  </tbody>\n",
       "</table>\n",
       "</div>"
      ],
      "text/plain": [
       "                   id                 id2  retweet_count  likes\n",
       "0  892420643555336193  892420643555336192  8853           39467\n",
       "1  892177421306343426  892177421306343424  6514           33819\n",
       "2  891815181378084864  891815181378084864  4328           25461\n",
       "3  891689557279858688  891689557279858688  8964           42908\n",
       "4  891327558926688256  891327558926688256  9774           41048"
      ]
     },
     "execution_count": 461,
     "metadata": {},
     "output_type": "execute_result"
    }
   ],
   "source": [
    "json_df.head()"
   ]
  },
  {
   "cell_type": "markdown",
   "metadata": {},
   "source": [
    "## Storing Data\n",
    "Save gathered, assessed, and cleaned master dataset to a CSV file named \"twitter_archive_master.csv\"."
   ]
  },
  {
   "cell_type": "markdown",
   "metadata": {},
   "source": [
    "I will now gather all the dataframes, drop their irrelevant columns and join them into one master dataFrame for analysis. This will help tackle the problem of having one observational unit in different dataframes."
   ]
  },
  {
   "cell_type": "code",
   "execution_count": 462,
   "metadata": {},
   "outputs": [
    {
     "data": {
      "text/plain": [
       "Index(['tweet_id', 'date', 'time', 'source', 'text', 'retweeted_status_id',\n",
       "       'retweeted_status_user_id', 'retweeted_status_timestamp',\n",
       "       'expanded_urls', 'name', 'stage', 'rating'],\n",
       "      dtype='object')"
      ]
     },
     "execution_count": 462,
     "metadata": {},
     "output_type": "execute_result"
    }
   ],
   "source": [
    "arc.columns"
   ]
  },
  {
   "cell_type": "code",
   "execution_count": 463,
   "metadata": {},
   "outputs": [
    {
     "data": {
      "text/html": [
       "<div>\n",
       "<style scoped>\n",
       "    .dataframe tbody tr th:only-of-type {\n",
       "        vertical-align: middle;\n",
       "    }\n",
       "\n",
       "    .dataframe tbody tr th {\n",
       "        vertical-align: top;\n",
       "    }\n",
       "\n",
       "    .dataframe thead th {\n",
       "        text-align: right;\n",
       "    }\n",
       "</style>\n",
       "<table border=\"1\" class=\"dataframe\">\n",
       "  <thead>\n",
       "    <tr style=\"text-align: right;\">\n",
       "      <th></th>\n",
       "      <th>tweet_id</th>\n",
       "      <th>date</th>\n",
       "      <th>time</th>\n",
       "      <th>source</th>\n",
       "      <th>text</th>\n",
       "      <th>retweeted_status_id</th>\n",
       "      <th>retweeted_status_user_id</th>\n",
       "      <th>retweeted_status_timestamp</th>\n",
       "      <th>expanded_urls</th>\n",
       "      <th>name</th>\n",
       "      <th>stage</th>\n",
       "      <th>rating</th>\n",
       "    </tr>\n",
       "  </thead>\n",
       "  <tbody>\n",
       "    <tr>\n",
       "      <th>0</th>\n",
       "      <td>8.924206e+17</td>\n",
       "      <td>2017-08-01</td>\n",
       "      <td>16:23:56</td>\n",
       "      <td>&lt;a href=\"http://twitter.com/download/iphone\" rel=\"nofollow\"&gt;Twitter for iPhone&lt;/a&gt;</td>\n",
       "      <td>This is Phineas. He's a mystical boy. Only ever appears in the hole of a donut. 1</td>\n",
       "      <td>NaN</td>\n",
       "      <td>NaN</td>\n",
       "      <td>NaN</td>\n",
       "      <td>https://twitter.com/dog_rates/status/892420643555336193/photo/1</td>\n",
       "      <td>Phineas</td>\n",
       "      <td>NaN</td>\n",
       "      <td>1.3</td>\n",
       "    </tr>\n",
       "    <tr>\n",
       "      <th>1</th>\n",
       "      <td>8.921774e+17</td>\n",
       "      <td>2017-08-01</td>\n",
       "      <td>00:17:27</td>\n",
       "      <td>&lt;a href=\"http://twitter.com/download/iphone\" rel=\"nofollow\"&gt;Twitter for iPhone&lt;/a&gt;</td>\n",
       "      <td>This is Tilly. She's just checking pup on you. Hopes you're doing ok. If not, she's available for pats, snugs, boops, the whole bit. 1</td>\n",
       "      <td>NaN</td>\n",
       "      <td>NaN</td>\n",
       "      <td>NaN</td>\n",
       "      <td>https://twitter.com/dog_rates/status/892177421306343426/photo/1</td>\n",
       "      <td>Tilly</td>\n",
       "      <td>NaN</td>\n",
       "      <td>1.3</td>\n",
       "    </tr>\n",
       "    <tr>\n",
       "      <th>2</th>\n",
       "      <td>8.918152e+17</td>\n",
       "      <td>2017-07-31</td>\n",
       "      <td>00:18:03</td>\n",
       "      <td>&lt;a href=\"http://twitter.com/download/iphone\" rel=\"nofollow\"&gt;Twitter for iPhone&lt;/a&gt;</td>\n",
       "      <td>This is Archie. He is a rare Norwegian Pouncing Corgo. Lives in the tall grass. You never know when one may strike. 1</td>\n",
       "      <td>NaN</td>\n",
       "      <td>NaN</td>\n",
       "      <td>NaN</td>\n",
       "      <td>https://twitter.com/dog_rates/status/891815181378084864/photo/1</td>\n",
       "      <td>Archie</td>\n",
       "      <td>NaN</td>\n",
       "      <td>1.2</td>\n",
       "    </tr>\n",
       "  </tbody>\n",
       "</table>\n",
       "</div>"
      ],
      "text/plain": [
       "       tweet_id         date      time  \\\n",
       "0  8.924206e+17  2017-08-01   16:23:56   \n",
       "1  8.921774e+17  2017-08-01   00:17:27   \n",
       "2  8.918152e+17  2017-07-31   00:18:03   \n",
       "\n",
       "                                                                               source  \\\n",
       "0  <a href=\"http://twitter.com/download/iphone\" rel=\"nofollow\">Twitter for iPhone</a>   \n",
       "1  <a href=\"http://twitter.com/download/iphone\" rel=\"nofollow\">Twitter for iPhone</a>   \n",
       "2  <a href=\"http://twitter.com/download/iphone\" rel=\"nofollow\">Twitter for iPhone</a>   \n",
       "\n",
       "                                                                                                                                     text  \\\n",
       "0  This is Phineas. He's a mystical boy. Only ever appears in the hole of a donut. 1                                                        \n",
       "1  This is Tilly. She's just checking pup on you. Hopes you're doing ok. If not, she's available for pats, snugs, boops, the whole bit. 1   \n",
       "2  This is Archie. He is a rare Norwegian Pouncing Corgo. Lives in the tall grass. You never know when one may strike. 1                    \n",
       "\n",
       "   retweeted_status_id  retweeted_status_user_id retweeted_status_timestamp  \\\n",
       "0 NaN                  NaN                        NaN                         \n",
       "1 NaN                  NaN                        NaN                         \n",
       "2 NaN                  NaN                        NaN                         \n",
       "\n",
       "                                                     expanded_urls     name  \\\n",
       "0  https://twitter.com/dog_rates/status/892420643555336193/photo/1  Phineas   \n",
       "1  https://twitter.com/dog_rates/status/892177421306343426/photo/1  Tilly     \n",
       "2  https://twitter.com/dog_rates/status/891815181378084864/photo/1  Archie    \n",
       "\n",
       "  stage  rating  \n",
       "0  NaN   1.3     \n",
       "1  NaN   1.3     \n",
       "2  NaN   1.2     "
      ]
     },
     "execution_count": 463,
     "metadata": {},
     "output_type": "execute_result"
    }
   ],
   "source": [
    "arc.head(3)"
   ]
  },
  {
   "cell_type": "code",
   "execution_count": 464,
   "metadata": {},
   "outputs": [
    {
     "data": {
      "text/plain": [
       "Index(['tweet_id', 'jpg_url', 'img_num', 'p1', 'p1_conf', 'p1_dog'], dtype='object')"
      ]
     },
     "execution_count": 464,
     "metadata": {},
     "output_type": "execute_result"
    }
   ],
   "source": [
    "imgs.columns"
   ]
  },
  {
   "cell_type": "code",
   "execution_count": 465,
   "metadata": {},
   "outputs": [
    {
     "data": {
      "text/html": [
       "<div>\n",
       "<style scoped>\n",
       "    .dataframe tbody tr th:only-of-type {\n",
       "        vertical-align: middle;\n",
       "    }\n",
       "\n",
       "    .dataframe tbody tr th {\n",
       "        vertical-align: top;\n",
       "    }\n",
       "\n",
       "    .dataframe thead th {\n",
       "        text-align: right;\n",
       "    }\n",
       "</style>\n",
       "<table border=\"1\" class=\"dataframe\">\n",
       "  <thead>\n",
       "    <tr style=\"text-align: right;\">\n",
       "      <th></th>\n",
       "      <th>tweet_id</th>\n",
       "      <th>jpg_url</th>\n",
       "      <th>img_num</th>\n",
       "      <th>p1</th>\n",
       "      <th>p1_conf</th>\n",
       "      <th>p1_dog</th>\n",
       "    </tr>\n",
       "  </thead>\n",
       "  <tbody>\n",
       "    <tr>\n",
       "      <th>0</th>\n",
       "      <td>666020888022790149</td>\n",
       "      <td>https://pbs.twimg.com/media/CT4udn0WwAA0aMy.jpg</td>\n",
       "      <td>1</td>\n",
       "      <td>WELSH SPRINGER SPANIEL</td>\n",
       "      <td>0.465074</td>\n",
       "      <td>True</td>\n",
       "    </tr>\n",
       "    <tr>\n",
       "      <th>1</th>\n",
       "      <td>666029285002620928</td>\n",
       "      <td>https://pbs.twimg.com/media/CT42GRgUYAA5iDo.jpg</td>\n",
       "      <td>1</td>\n",
       "      <td>nan</td>\n",
       "      <td>0.506826</td>\n",
       "      <td>True</td>\n",
       "    </tr>\n",
       "    <tr>\n",
       "      <th>2</th>\n",
       "      <td>666033412701032449</td>\n",
       "      <td>https://pbs.twimg.com/media/CT4521TWwAEvMyu.jpg</td>\n",
       "      <td>1</td>\n",
       "      <td>nan</td>\n",
       "      <td>0.596461</td>\n",
       "      <td>True</td>\n",
       "    </tr>\n",
       "    <tr>\n",
       "      <th>3</th>\n",
       "      <td>666044226329800704</td>\n",
       "      <td>https://pbs.twimg.com/media/CT5Dr8HUEAA-lEu.jpg</td>\n",
       "      <td>1</td>\n",
       "      <td>RHODESIAN RIDGEBACK</td>\n",
       "      <td>0.408143</td>\n",
       "      <td>True</td>\n",
       "    </tr>\n",
       "    <tr>\n",
       "      <th>4</th>\n",
       "      <td>666049248165822465</td>\n",
       "      <td>https://pbs.twimg.com/media/CT5IQmsXIAAKY4A.jpg</td>\n",
       "      <td>1</td>\n",
       "      <td>MINIATURE PINSCHER</td>\n",
       "      <td>0.560311</td>\n",
       "      <td>True</td>\n",
       "    </tr>\n",
       "  </tbody>\n",
       "</table>\n",
       "</div>"
      ],
      "text/plain": [
       "             tweet_id                                          jpg_url  \\\n",
       "0  666020888022790149  https://pbs.twimg.com/media/CT4udn0WwAA0aMy.jpg   \n",
       "1  666029285002620928  https://pbs.twimg.com/media/CT42GRgUYAA5iDo.jpg   \n",
       "2  666033412701032449  https://pbs.twimg.com/media/CT4521TWwAEvMyu.jpg   \n",
       "3  666044226329800704  https://pbs.twimg.com/media/CT5Dr8HUEAA-lEu.jpg   \n",
       "4  666049248165822465  https://pbs.twimg.com/media/CT5IQmsXIAAKY4A.jpg   \n",
       "\n",
       "   img_num                      p1   p1_conf  p1_dog  \n",
       "0  1        WELSH SPRINGER SPANIEL  0.465074  True    \n",
       "1  1        nan                     0.506826  True    \n",
       "2  1        nan                     0.596461  True    \n",
       "3  1        RHODESIAN RIDGEBACK     0.408143  True    \n",
       "4  1        MINIATURE PINSCHER      0.560311  True    "
      ]
     },
     "execution_count": 465,
     "metadata": {},
     "output_type": "execute_result"
    }
   ],
   "source": [
    "imgs.head()"
   ]
  },
  {
   "cell_type": "code",
   "execution_count": 466,
   "metadata": {},
   "outputs": [
    {
     "data": {
      "text/plain": [
       "Index(['id', 'id2', 'retweet_count', 'likes'], dtype='object')"
      ]
     },
     "execution_count": 466,
     "metadata": {},
     "output_type": "execute_result"
    }
   ],
   "source": [
    "json_df.columns"
   ]
  },
  {
   "cell_type": "code",
   "execution_count": 467,
   "metadata": {},
   "outputs": [
    {
     "data": {
      "text/html": [
       "<div>\n",
       "<style scoped>\n",
       "    .dataframe tbody tr th:only-of-type {\n",
       "        vertical-align: middle;\n",
       "    }\n",
       "\n",
       "    .dataframe tbody tr th {\n",
       "        vertical-align: top;\n",
       "    }\n",
       "\n",
       "    .dataframe thead th {\n",
       "        text-align: right;\n",
       "    }\n",
       "</style>\n",
       "<table border=\"1\" class=\"dataframe\">\n",
       "  <thead>\n",
       "    <tr style=\"text-align: right;\">\n",
       "      <th></th>\n",
       "      <th>id</th>\n",
       "      <th>id2</th>\n",
       "      <th>retweet_count</th>\n",
       "      <th>likes</th>\n",
       "    </tr>\n",
       "  </thead>\n",
       "  <tbody>\n",
       "    <tr>\n",
       "      <th>0</th>\n",
       "      <td>892420643555336193</td>\n",
       "      <td>892420643555336192</td>\n",
       "      <td>8853</td>\n",
       "      <td>39467</td>\n",
       "    </tr>\n",
       "    <tr>\n",
       "      <th>1</th>\n",
       "      <td>892177421306343426</td>\n",
       "      <td>892177421306343424</td>\n",
       "      <td>6514</td>\n",
       "      <td>33819</td>\n",
       "    </tr>\n",
       "    <tr>\n",
       "      <th>2</th>\n",
       "      <td>891815181378084864</td>\n",
       "      <td>891815181378084864</td>\n",
       "      <td>4328</td>\n",
       "      <td>25461</td>\n",
       "    </tr>\n",
       "    <tr>\n",
       "      <th>3</th>\n",
       "      <td>891689557279858688</td>\n",
       "      <td>891689557279858688</td>\n",
       "      <td>8964</td>\n",
       "      <td>42908</td>\n",
       "    </tr>\n",
       "    <tr>\n",
       "      <th>4</th>\n",
       "      <td>891327558926688256</td>\n",
       "      <td>891327558926688256</td>\n",
       "      <td>9774</td>\n",
       "      <td>41048</td>\n",
       "    </tr>\n",
       "  </tbody>\n",
       "</table>\n",
       "</div>"
      ],
      "text/plain": [
       "                   id                 id2  retweet_count  likes\n",
       "0  892420643555336193  892420643555336192  8853           39467\n",
       "1  892177421306343426  892177421306343424  6514           33819\n",
       "2  891815181378084864  891815181378084864  4328           25461\n",
       "3  891689557279858688  891689557279858688  8964           42908\n",
       "4  891327558926688256  891327558926688256  9774           41048"
      ]
     },
     "execution_count": 467,
     "metadata": {},
     "output_type": "execute_result"
    }
   ],
   "source": [
    "json_df.head()"
   ]
  },
  {
   "cell_type": "markdown",
   "metadata": {},
   "source": [
    "Merging the dataframes"
   ]
  },
  {
   "cell_type": "code",
   "execution_count": 468,
   "metadata": {},
   "outputs": [],
   "source": [
    "master=arc.join(imgs, how='left', lsuffix=' ', rsuffix=' ', sort=False)"
   ]
  },
  {
   "cell_type": "code",
   "execution_count": 469,
   "metadata": {},
   "outputs": [
    {
     "data": {
      "text/html": [
       "<div>\n",
       "<style scoped>\n",
       "    .dataframe tbody tr th:only-of-type {\n",
       "        vertical-align: middle;\n",
       "    }\n",
       "\n",
       "    .dataframe tbody tr th {\n",
       "        vertical-align: top;\n",
       "    }\n",
       "\n",
       "    .dataframe thead th {\n",
       "        text-align: right;\n",
       "    }\n",
       "</style>\n",
       "<table border=\"1\" class=\"dataframe\">\n",
       "  <thead>\n",
       "    <tr style=\"text-align: right;\">\n",
       "      <th></th>\n",
       "      <th>tweet_id</th>\n",
       "      <th>date</th>\n",
       "      <th>time</th>\n",
       "      <th>source</th>\n",
       "      <th>text</th>\n",
       "      <th>retweeted_status_id</th>\n",
       "      <th>retweeted_status_user_id</th>\n",
       "      <th>retweeted_status_timestamp</th>\n",
       "      <th>expanded_urls</th>\n",
       "      <th>name</th>\n",
       "      <th>stage</th>\n",
       "      <th>rating</th>\n",
       "      <th>tweet_id</th>\n",
       "      <th>jpg_url</th>\n",
       "      <th>img_num</th>\n",
       "      <th>p1</th>\n",
       "      <th>p1_conf</th>\n",
       "      <th>p1_dog</th>\n",
       "    </tr>\n",
       "  </thead>\n",
       "  <tbody>\n",
       "    <tr>\n",
       "      <th>0</th>\n",
       "      <td>8.924206e+17</td>\n",
       "      <td>2017-08-01</td>\n",
       "      <td>16:23:56</td>\n",
       "      <td>&lt;a href=\"http://twitter.com/download/iphone\" rel=\"nofollow\"&gt;Twitter for iPhone&lt;/a&gt;</td>\n",
       "      <td>This is Phineas. He's a mystical boy. Only ever appears in the hole of a donut. 1</td>\n",
       "      <td>NaN</td>\n",
       "      <td>NaN</td>\n",
       "      <td>NaN</td>\n",
       "      <td>https://twitter.com/dog_rates/status/892420643555336193/photo/1</td>\n",
       "      <td>Phineas</td>\n",
       "      <td>NaN</td>\n",
       "      <td>1.3</td>\n",
       "      <td>6.660209e+17</td>\n",
       "      <td>https://pbs.twimg.com/media/CT4udn0WwAA0aMy.jpg</td>\n",
       "      <td>1.0</td>\n",
       "      <td>WELSH SPRINGER SPANIEL</td>\n",
       "      <td>0.465074</td>\n",
       "      <td>True</td>\n",
       "    </tr>\n",
       "    <tr>\n",
       "      <th>1</th>\n",
       "      <td>8.921774e+17</td>\n",
       "      <td>2017-08-01</td>\n",
       "      <td>00:17:27</td>\n",
       "      <td>&lt;a href=\"http://twitter.com/download/iphone\" rel=\"nofollow\"&gt;Twitter for iPhone&lt;/a&gt;</td>\n",
       "      <td>This is Tilly. She's just checking pup on you. Hopes you're doing ok. If not, she's available for pats, snugs, boops, the whole bit. 1</td>\n",
       "      <td>NaN</td>\n",
       "      <td>NaN</td>\n",
       "      <td>NaN</td>\n",
       "      <td>https://twitter.com/dog_rates/status/892177421306343426/photo/1</td>\n",
       "      <td>Tilly</td>\n",
       "      <td>NaN</td>\n",
       "      <td>1.3</td>\n",
       "      <td>6.660293e+17</td>\n",
       "      <td>https://pbs.twimg.com/media/CT42GRgUYAA5iDo.jpg</td>\n",
       "      <td>1.0</td>\n",
       "      <td>nan</td>\n",
       "      <td>0.506826</td>\n",
       "      <td>True</td>\n",
       "    </tr>\n",
       "    <tr>\n",
       "      <th>2</th>\n",
       "      <td>8.918152e+17</td>\n",
       "      <td>2017-07-31</td>\n",
       "      <td>00:18:03</td>\n",
       "      <td>&lt;a href=\"http://twitter.com/download/iphone\" rel=\"nofollow\"&gt;Twitter for iPhone&lt;/a&gt;</td>\n",
       "      <td>This is Archie. He is a rare Norwegian Pouncing Corgo. Lives in the tall grass. You never know when one may strike. 1</td>\n",
       "      <td>NaN</td>\n",
       "      <td>NaN</td>\n",
       "      <td>NaN</td>\n",
       "      <td>https://twitter.com/dog_rates/status/891815181378084864/photo/1</td>\n",
       "      <td>Archie</td>\n",
       "      <td>NaN</td>\n",
       "      <td>1.2</td>\n",
       "      <td>6.660334e+17</td>\n",
       "      <td>https://pbs.twimg.com/media/CT4521TWwAEvMyu.jpg</td>\n",
       "      <td>1.0</td>\n",
       "      <td>nan</td>\n",
       "      <td>0.596461</td>\n",
       "      <td>True</td>\n",
       "    </tr>\n",
       "    <tr>\n",
       "      <th>3</th>\n",
       "      <td>8.916896e+17</td>\n",
       "      <td>2017-07-30</td>\n",
       "      <td>15:58:51</td>\n",
       "      <td>&lt;a href=\"http://twitter.com/download/iphone\" rel=\"nofollow\"&gt;Twitter for iPhone&lt;/a&gt;</td>\n",
       "      <td>This is Darla. She commenced a snooze mid meal. 1</td>\n",
       "      <td>NaN</td>\n",
       "      <td>NaN</td>\n",
       "      <td>NaN</td>\n",
       "      <td>https://twitter.com/dog_rates/status/891689557279858688/photo/1</td>\n",
       "      <td>Darla</td>\n",
       "      <td>NaN</td>\n",
       "      <td>1.3</td>\n",
       "      <td>6.660442e+17</td>\n",
       "      <td>https://pbs.twimg.com/media/CT5Dr8HUEAA-lEu.jpg</td>\n",
       "      <td>1.0</td>\n",
       "      <td>RHODESIAN RIDGEBACK</td>\n",
       "      <td>0.408143</td>\n",
       "      <td>True</td>\n",
       "    </tr>\n",
       "    <tr>\n",
       "      <th>4</th>\n",
       "      <td>8.913276e+17</td>\n",
       "      <td>2017-07-29</td>\n",
       "      <td>16:00:24</td>\n",
       "      <td>&lt;a href=\"http://twitter.com/download/iphone\" rel=\"nofollow\"&gt;Twitter for iPhone&lt;/a&gt;</td>\n",
       "      <td>This is Franklin. He would like you to stop calling him \"cute.\" He is a very fierce shark and should be respected as such. 1</td>\n",
       "      <td>NaN</td>\n",
       "      <td>NaN</td>\n",
       "      <td>NaN</td>\n",
       "      <td>https://twitter.com/dog_rates/status/891327558926688256/photo/1,https://twitter.com/dog_rates/status/891327558926688256/photo/1</td>\n",
       "      <td>Franklin</td>\n",
       "      <td>NaN</td>\n",
       "      <td>1.2</td>\n",
       "      <td>6.660492e+17</td>\n",
       "      <td>https://pbs.twimg.com/media/CT5IQmsXIAAKY4A.jpg</td>\n",
       "      <td>1.0</td>\n",
       "      <td>MINIATURE PINSCHER</td>\n",
       "      <td>0.560311</td>\n",
       "      <td>True</td>\n",
       "    </tr>\n",
       "  </tbody>\n",
       "</table>\n",
       "</div>"
      ],
      "text/plain": [
       "      tweet_id          date      time  \\\n",
       "0  8.924206e+17  2017-08-01   16:23:56   \n",
       "1  8.921774e+17  2017-08-01   00:17:27   \n",
       "2  8.918152e+17  2017-07-31   00:18:03   \n",
       "3  8.916896e+17  2017-07-30   15:58:51   \n",
       "4  8.913276e+17  2017-07-29   16:00:24   \n",
       "\n",
       "                                                                               source  \\\n",
       "0  <a href=\"http://twitter.com/download/iphone\" rel=\"nofollow\">Twitter for iPhone</a>   \n",
       "1  <a href=\"http://twitter.com/download/iphone\" rel=\"nofollow\">Twitter for iPhone</a>   \n",
       "2  <a href=\"http://twitter.com/download/iphone\" rel=\"nofollow\">Twitter for iPhone</a>   \n",
       "3  <a href=\"http://twitter.com/download/iphone\" rel=\"nofollow\">Twitter for iPhone</a>   \n",
       "4  <a href=\"http://twitter.com/download/iphone\" rel=\"nofollow\">Twitter for iPhone</a>   \n",
       "\n",
       "                                                                                                                                     text  \\\n",
       "0  This is Phineas. He's a mystical boy. Only ever appears in the hole of a donut. 1                                                        \n",
       "1  This is Tilly. She's just checking pup on you. Hopes you're doing ok. If not, she's available for pats, snugs, boops, the whole bit. 1   \n",
       "2  This is Archie. He is a rare Norwegian Pouncing Corgo. Lives in the tall grass. You never know when one may strike. 1                    \n",
       "3  This is Darla. She commenced a snooze mid meal. 1                                                                                        \n",
       "4  This is Franklin. He would like you to stop calling him \"cute.\" He is a very fierce shark and should be respected as such. 1             \n",
       "\n",
       "   retweeted_status_id  retweeted_status_user_id retweeted_status_timestamp  \\\n",
       "0 NaN                  NaN                        NaN                         \n",
       "1 NaN                  NaN                        NaN                         \n",
       "2 NaN                  NaN                        NaN                         \n",
       "3 NaN                  NaN                        NaN                         \n",
       "4 NaN                  NaN                        NaN                         \n",
       "\n",
       "                                                                                                                     expanded_urls  \\\n",
       "0  https://twitter.com/dog_rates/status/892420643555336193/photo/1                                                                   \n",
       "1  https://twitter.com/dog_rates/status/892177421306343426/photo/1                                                                   \n",
       "2  https://twitter.com/dog_rates/status/891815181378084864/photo/1                                                                   \n",
       "3  https://twitter.com/dog_rates/status/891689557279858688/photo/1                                                                   \n",
       "4  https://twitter.com/dog_rates/status/891327558926688256/photo/1,https://twitter.com/dog_rates/status/891327558926688256/photo/1   \n",
       "\n",
       "       name stage  rating     tweet_id   \\\n",
       "0  Phineas   NaN   1.3     6.660209e+17   \n",
       "1  Tilly     NaN   1.3     6.660293e+17   \n",
       "2  Archie    NaN   1.2     6.660334e+17   \n",
       "3  Darla     NaN   1.3     6.660442e+17   \n",
       "4  Franklin  NaN   1.2     6.660492e+17   \n",
       "\n",
       "                                           jpg_url  img_num  \\\n",
       "0  https://pbs.twimg.com/media/CT4udn0WwAA0aMy.jpg  1.0       \n",
       "1  https://pbs.twimg.com/media/CT42GRgUYAA5iDo.jpg  1.0       \n",
       "2  https://pbs.twimg.com/media/CT4521TWwAEvMyu.jpg  1.0       \n",
       "3  https://pbs.twimg.com/media/CT5Dr8HUEAA-lEu.jpg  1.0       \n",
       "4  https://pbs.twimg.com/media/CT5IQmsXIAAKY4A.jpg  1.0       \n",
       "\n",
       "                       p1   p1_conf p1_dog  \n",
       "0  WELSH SPRINGER SPANIEL  0.465074  True   \n",
       "1  nan                     0.506826  True   \n",
       "2  nan                     0.596461  True   \n",
       "3  RHODESIAN RIDGEBACK     0.408143  True   \n",
       "4  MINIATURE PINSCHER      0.560311  True   "
      ]
     },
     "execution_count": 469,
     "metadata": {},
     "output_type": "execute_result"
    }
   ],
   "source": [
    "master.head()"
   ]
  },
  {
   "cell_type": "code",
   "execution_count": 470,
   "metadata": {
    "scrolled": true
   },
   "outputs": [],
   "source": [
    "#json_df.info()"
   ]
  },
  {
   "cell_type": "code",
   "execution_count": 471,
   "metadata": {},
   "outputs": [],
   "source": [
    "master_df=master.join(json_df, how='left', lsuffix=' ', rsuffix=' ', sort=False)"
   ]
  },
  {
   "cell_type": "code",
   "execution_count": 472,
   "metadata": {
    "scrolled": true
   },
   "outputs": [
    {
     "data": {
      "text/html": [
       "<div>\n",
       "<style scoped>\n",
       "    .dataframe tbody tr th:only-of-type {\n",
       "        vertical-align: middle;\n",
       "    }\n",
       "\n",
       "    .dataframe tbody tr th {\n",
       "        vertical-align: top;\n",
       "    }\n",
       "\n",
       "    .dataframe thead th {\n",
       "        text-align: right;\n",
       "    }\n",
       "</style>\n",
       "<table border=\"1\" class=\"dataframe\">\n",
       "  <thead>\n",
       "    <tr style=\"text-align: right;\">\n",
       "      <th></th>\n",
       "      <th>tweet_id</th>\n",
       "      <th>date</th>\n",
       "      <th>time</th>\n",
       "      <th>source</th>\n",
       "      <th>text</th>\n",
       "      <th>retweeted_status_id</th>\n",
       "      <th>retweeted_status_user_id</th>\n",
       "      <th>retweeted_status_timestamp</th>\n",
       "      <th>expanded_urls</th>\n",
       "      <th>name</th>\n",
       "      <th>stage</th>\n",
       "      <th>rating</th>\n",
       "      <th>tweet_id</th>\n",
       "      <th>jpg_url</th>\n",
       "      <th>img_num</th>\n",
       "      <th>p1</th>\n",
       "      <th>p1_conf</th>\n",
       "      <th>p1_dog</th>\n",
       "      <th>id</th>\n",
       "      <th>id2</th>\n",
       "      <th>retweet_count</th>\n",
       "      <th>likes</th>\n",
       "    </tr>\n",
       "  </thead>\n",
       "  <tbody>\n",
       "    <tr>\n",
       "      <th>0</th>\n",
       "      <td>8.924206e+17</td>\n",
       "      <td>2017-08-01</td>\n",
       "      <td>16:23:56</td>\n",
       "      <td>&lt;a href=\"http://twitter.com/download/iphone\" rel=\"nofollow\"&gt;Twitter for iPhone&lt;/a&gt;</td>\n",
       "      <td>This is Phineas. He's a mystical boy. Only ever appears in the hole of a donut. 1</td>\n",
       "      <td>NaN</td>\n",
       "      <td>NaN</td>\n",
       "      <td>NaN</td>\n",
       "      <td>https://twitter.com/dog_rates/status/892420643555336193/photo/1</td>\n",
       "      <td>Phineas</td>\n",
       "      <td>NaN</td>\n",
       "      <td>1.3</td>\n",
       "      <td>6.660209e+17</td>\n",
       "      <td>https://pbs.twimg.com/media/CT4udn0WwAA0aMy.jpg</td>\n",
       "      <td>1.0</td>\n",
       "      <td>WELSH SPRINGER SPANIEL</td>\n",
       "      <td>0.465074</td>\n",
       "      <td>True</td>\n",
       "      <td>8.924206e+17</td>\n",
       "      <td>8.924206e+17</td>\n",
       "      <td>8853.0</td>\n",
       "      <td>39467.0</td>\n",
       "    </tr>\n",
       "    <tr>\n",
       "      <th>1</th>\n",
       "      <td>8.921774e+17</td>\n",
       "      <td>2017-08-01</td>\n",
       "      <td>00:17:27</td>\n",
       "      <td>&lt;a href=\"http://twitter.com/download/iphone\" rel=\"nofollow\"&gt;Twitter for iPhone&lt;/a&gt;</td>\n",
       "      <td>This is Tilly. She's just checking pup on you. Hopes you're doing ok. If not, she's available for pats, snugs, boops, the whole bit. 1</td>\n",
       "      <td>NaN</td>\n",
       "      <td>NaN</td>\n",
       "      <td>NaN</td>\n",
       "      <td>https://twitter.com/dog_rates/status/892177421306343426/photo/1</td>\n",
       "      <td>Tilly</td>\n",
       "      <td>NaN</td>\n",
       "      <td>1.3</td>\n",
       "      <td>6.660293e+17</td>\n",
       "      <td>https://pbs.twimg.com/media/CT42GRgUYAA5iDo.jpg</td>\n",
       "      <td>1.0</td>\n",
       "      <td>nan</td>\n",
       "      <td>0.506826</td>\n",
       "      <td>True</td>\n",
       "      <td>8.921774e+17</td>\n",
       "      <td>8.921774e+17</td>\n",
       "      <td>6514.0</td>\n",
       "      <td>33819.0</td>\n",
       "    </tr>\n",
       "    <tr>\n",
       "      <th>2</th>\n",
       "      <td>8.918152e+17</td>\n",
       "      <td>2017-07-31</td>\n",
       "      <td>00:18:03</td>\n",
       "      <td>&lt;a href=\"http://twitter.com/download/iphone\" rel=\"nofollow\"&gt;Twitter for iPhone&lt;/a&gt;</td>\n",
       "      <td>This is Archie. He is a rare Norwegian Pouncing Corgo. Lives in the tall grass. You never know when one may strike. 1</td>\n",
       "      <td>NaN</td>\n",
       "      <td>NaN</td>\n",
       "      <td>NaN</td>\n",
       "      <td>https://twitter.com/dog_rates/status/891815181378084864/photo/1</td>\n",
       "      <td>Archie</td>\n",
       "      <td>NaN</td>\n",
       "      <td>1.2</td>\n",
       "      <td>6.660334e+17</td>\n",
       "      <td>https://pbs.twimg.com/media/CT4521TWwAEvMyu.jpg</td>\n",
       "      <td>1.0</td>\n",
       "      <td>nan</td>\n",
       "      <td>0.596461</td>\n",
       "      <td>True</td>\n",
       "      <td>8.918152e+17</td>\n",
       "      <td>8.918152e+17</td>\n",
       "      <td>4328.0</td>\n",
       "      <td>25461.0</td>\n",
       "    </tr>\n",
       "  </tbody>\n",
       "</table>\n",
       "</div>"
      ],
      "text/plain": [
       "      tweet_id          date      time  \\\n",
       "0  8.924206e+17  2017-08-01   16:23:56   \n",
       "1  8.921774e+17  2017-08-01   00:17:27   \n",
       "2  8.918152e+17  2017-07-31   00:18:03   \n",
       "\n",
       "                                                                               source  \\\n",
       "0  <a href=\"http://twitter.com/download/iphone\" rel=\"nofollow\">Twitter for iPhone</a>   \n",
       "1  <a href=\"http://twitter.com/download/iphone\" rel=\"nofollow\">Twitter for iPhone</a>   \n",
       "2  <a href=\"http://twitter.com/download/iphone\" rel=\"nofollow\">Twitter for iPhone</a>   \n",
       "\n",
       "                                                                                                                                     text  \\\n",
       "0  This is Phineas. He's a mystical boy. Only ever appears in the hole of a donut. 1                                                        \n",
       "1  This is Tilly. She's just checking pup on you. Hopes you're doing ok. If not, she's available for pats, snugs, boops, the whole bit. 1   \n",
       "2  This is Archie. He is a rare Norwegian Pouncing Corgo. Lives in the tall grass. You never know when one may strike. 1                    \n",
       "\n",
       "   retweeted_status_id  retweeted_status_user_id retweeted_status_timestamp  \\\n",
       "0 NaN                  NaN                        NaN                         \n",
       "1 NaN                  NaN                        NaN                         \n",
       "2 NaN                  NaN                        NaN                         \n",
       "\n",
       "                                                     expanded_urls     name  \\\n",
       "0  https://twitter.com/dog_rates/status/892420643555336193/photo/1  Phineas   \n",
       "1  https://twitter.com/dog_rates/status/892177421306343426/photo/1  Tilly     \n",
       "2  https://twitter.com/dog_rates/status/891815181378084864/photo/1  Archie    \n",
       "\n",
       "  stage  rating     tweet_id   \\\n",
       "0  NaN   1.3     6.660209e+17   \n",
       "1  NaN   1.3     6.660293e+17   \n",
       "2  NaN   1.2     6.660334e+17   \n",
       "\n",
       "                                           jpg_url  img_num  \\\n",
       "0  https://pbs.twimg.com/media/CT4udn0WwAA0aMy.jpg  1.0       \n",
       "1  https://pbs.twimg.com/media/CT42GRgUYAA5iDo.jpg  1.0       \n",
       "2  https://pbs.twimg.com/media/CT4521TWwAEvMyu.jpg  1.0       \n",
       "\n",
       "                       p1   p1_conf p1_dog            id           id2  \\\n",
       "0  WELSH SPRINGER SPANIEL  0.465074  True   8.924206e+17  8.924206e+17   \n",
       "1  nan                     0.506826  True   8.921774e+17  8.921774e+17   \n",
       "2  nan                     0.596461  True   8.918152e+17  8.918152e+17   \n",
       "\n",
       "   retweet_count    likes  \n",
       "0  8853.0         39467.0  \n",
       "1  6514.0         33819.0  \n",
       "2  4328.0         25461.0  "
      ]
     },
     "execution_count": 472,
     "metadata": {},
     "output_type": "execute_result"
    }
   ],
   "source": [
    "master_df.head(3)"
   ]
  },
  {
   "cell_type": "code",
   "execution_count": 473,
   "metadata": {},
   "outputs": [
    {
     "name": "stdout",
     "output_type": "stream",
     "text": [
      "<class 'pandas.core.frame.DataFrame'>\n",
      "RangeIndex: 2356 entries, 0 to 2355\n",
      "Data columns (total 22 columns):\n",
      " #   Column                      Non-Null Count  Dtype  \n",
      "---  ------                      --------------  -----  \n",
      " 0   tweet_id                    2356 non-null   float64\n",
      " 1   date                        2356 non-null   object \n",
      " 2   time                        2356 non-null   object \n",
      " 3   source                      2356 non-null   object \n",
      " 4   text                        2350 non-null   object \n",
      " 5   retweeted_status_id         181 non-null    float64\n",
      " 6   retweeted_status_user_id    181 non-null    float64\n",
      " 7   retweeted_status_timestamp  181 non-null    object \n",
      " 8   expanded_urls               2297 non-null   object \n",
      " 9   name                        1611 non-null   object \n",
      " 10  stage                       380 non-null    object \n",
      " 11  rating                      2355 non-null   float64\n",
      " 12  tweet_id                    2075 non-null   float64\n",
      " 13  jpg_url                     2075 non-null   object \n",
      " 14  img_num                     2075 non-null   float64\n",
      " 15  p1                          2075 non-null   object \n",
      " 16  p1_conf                     2075 non-null   float64\n",
      " 17  p1_dog                      2075 non-null   object \n",
      " 18  id                          2354 non-null   float64\n",
      " 19  id2                         2354 non-null   float64\n",
      " 20  retweet_count               2354 non-null   float64\n",
      " 21  likes                       2354 non-null   float64\n",
      "dtypes: float64(11), object(11)\n",
      "memory usage: 405.1+ KB\n"
     ]
    }
   ],
   "source": [
    "master_df.info()"
   ]
  },
  {
   "cell_type": "markdown",
   "metadata": {},
   "source": [
    "There are still some irrelevant columns in the master df that i have to drop to make it complete and tidy"
   ]
  },
  {
   "cell_type": "code",
   "execution_count": 474,
   "metadata": {},
   "outputs": [
    {
     "data": {
      "text/plain": [
       "Index(['tweet_id ', 'date', 'time', 'source', 'text', 'retweeted_status_id',\n",
       "       'retweeted_status_user_id', 'retweeted_status_timestamp',\n",
       "       'expanded_urls', 'name', 'stage', 'rating', 'tweet_id ', 'jpg_url',\n",
       "       'img_num', 'p1', 'p1_conf', 'p1_dog', 'id', 'id2', 'retweet_count',\n",
       "       'likes'],\n",
       "      dtype='object')"
      ]
     },
     "execution_count": 474,
     "metadata": {},
     "output_type": "execute_result"
    }
   ],
   "source": [
    "master_df.columns"
   ]
  },
  {
   "cell_type": "code",
   "execution_count": 475,
   "metadata": {},
   "outputs": [],
   "source": [
    "master_df.drop(['retweeted_status_id',\n",
    "       'retweeted_status_user_id', 'retweeted_status_timestamp',\n",
    "       'expanded_urls', 'tweet_id ', 'jpg_url',\n",
    "       'img_num'],axis=1,inplace=True)"
   ]
  },
  {
   "cell_type": "code",
   "execution_count": 476,
   "metadata": {},
   "outputs": [],
   "source": [
    "master_df3=master_df2.to_csv(r'C:\\Users\\user\\Desktop\\UDACITY PROJECT 2\\twitter_archive_master.csv',index=False)"
   ]
  },
  {
   "cell_type": "markdown",
   "metadata": {},
   "source": [
    "## Analyzing and Visualizing Data\n",
    "In this section, analyze and visualize your wrangled data. You must produce at least **three (3) insights and one (1) visualization.**"
   ]
  },
  {
   "cell_type": "markdown",
   "metadata": {},
   "source": [
    "Dog Stage count"
   ]
  },
  {
   "cell_type": "code",
   "execution_count": 482,
   "metadata": {},
   "outputs": [],
   "source": [
    "stage=master_df.groupby('stage')"
   ]
  },
  {
   "cell_type": "code",
   "execution_count": 484,
   "metadata": {},
   "outputs": [],
   "source": [
    "stage=stage.count()"
   ]
  },
  {
   "cell_type": "code",
   "execution_count": 485,
   "metadata": {},
   "outputs": [],
   "source": [
    "stage=pd.DataFrame(stage)"
   ]
  },
  {
   "cell_type": "code",
   "execution_count": 504,
   "metadata": {},
   "outputs": [
    {
     "data": {
      "text/html": [
       "<div>\n",
       "<style scoped>\n",
       "    .dataframe tbody tr th:only-of-type {\n",
       "        vertical-align: middle;\n",
       "    }\n",
       "\n",
       "    .dataframe tbody tr th {\n",
       "        vertical-align: top;\n",
       "    }\n",
       "\n",
       "    .dataframe thead th {\n",
       "        text-align: right;\n",
       "    }\n",
       "</style>\n",
       "<table border=\"1\" class=\"dataframe\">\n",
       "  <thead>\n",
       "    <tr style=\"text-align: right;\">\n",
       "      <th></th>\n",
       "      <th>date</th>\n",
       "      <th>time</th>\n",
       "      <th>source</th>\n",
       "      <th>text</th>\n",
       "      <th>name</th>\n",
       "      <th>rating</th>\n",
       "      <th>p1</th>\n",
       "      <th>p1_conf</th>\n",
       "      <th>p1_dog</th>\n",
       "      <th>id</th>\n",
       "      <th>id2</th>\n",
       "      <th>retweet_count</th>\n",
       "      <th>likes</th>\n",
       "    </tr>\n",
       "    <tr>\n",
       "      <th>stage</th>\n",
       "      <th></th>\n",
       "      <th></th>\n",
       "      <th></th>\n",
       "      <th></th>\n",
       "      <th></th>\n",
       "      <th></th>\n",
       "      <th></th>\n",
       "      <th></th>\n",
       "      <th></th>\n",
       "      <th></th>\n",
       "      <th></th>\n",
       "      <th></th>\n",
       "      <th></th>\n",
       "    </tr>\n",
       "  </thead>\n",
       "  <tbody>\n",
       "    <tr>\n",
       "      <th>pupper</th>\n",
       "      <td>245</td>\n",
       "      <td>245</td>\n",
       "      <td>245</td>\n",
       "      <td>245</td>\n",
       "      <td>142</td>\n",
       "      <td>245</td>\n",
       "      <td>245</td>\n",
       "      <td>245</td>\n",
       "      <td>245</td>\n",
       "      <td>245</td>\n",
       "      <td>245</td>\n",
       "      <td>245</td>\n",
       "      <td>245</td>\n",
       "    </tr>\n",
       "    <tr>\n",
       "      <th>doggo</th>\n",
       "      <td>83</td>\n",
       "      <td>83</td>\n",
       "      <td>83</td>\n",
       "      <td>83</td>\n",
       "      <td>47</td>\n",
       "      <td>83</td>\n",
       "      <td>83</td>\n",
       "      <td>83</td>\n",
       "      <td>83</td>\n",
       "      <td>83</td>\n",
       "      <td>83</td>\n",
       "      <td>83</td>\n",
       "      <td>83</td>\n",
       "    </tr>\n",
       "    <tr>\n",
       "      <th>puppo</th>\n",
       "      <td>29</td>\n",
       "      <td>29</td>\n",
       "      <td>29</td>\n",
       "      <td>29</td>\n",
       "      <td>20</td>\n",
       "      <td>29</td>\n",
       "      <td>29</td>\n",
       "      <td>29</td>\n",
       "      <td>29</td>\n",
       "      <td>29</td>\n",
       "      <td>29</td>\n",
       "      <td>29</td>\n",
       "      <td>29</td>\n",
       "    </tr>\n",
       "    <tr>\n",
       "      <th>doggopupper</th>\n",
       "      <td>12</td>\n",
       "      <td>12</td>\n",
       "      <td>12</td>\n",
       "      <td>12</td>\n",
       "      <td>6</td>\n",
       "      <td>12</td>\n",
       "      <td>12</td>\n",
       "      <td>12</td>\n",
       "      <td>12</td>\n",
       "      <td>12</td>\n",
       "      <td>12</td>\n",
       "      <td>12</td>\n",
       "      <td>12</td>\n",
       "    </tr>\n",
       "    <tr>\n",
       "      <th>floofer</th>\n",
       "      <td>9</td>\n",
       "      <td>9</td>\n",
       "      <td>9</td>\n",
       "      <td>9</td>\n",
       "      <td>5</td>\n",
       "      <td>9</td>\n",
       "      <td>9</td>\n",
       "      <td>9</td>\n",
       "      <td>9</td>\n",
       "      <td>9</td>\n",
       "      <td>9</td>\n",
       "      <td>9</td>\n",
       "      <td>9</td>\n",
       "    </tr>\n",
       "    <tr>\n",
       "      <th>doggofloofer</th>\n",
       "      <td>1</td>\n",
       "      <td>1</td>\n",
       "      <td>1</td>\n",
       "      <td>1</td>\n",
       "      <td>0</td>\n",
       "      <td>1</td>\n",
       "      <td>1</td>\n",
       "      <td>1</td>\n",
       "      <td>1</td>\n",
       "      <td>1</td>\n",
       "      <td>1</td>\n",
       "      <td>1</td>\n",
       "      <td>1</td>\n",
       "    </tr>\n",
       "    <tr>\n",
       "      <th>doggopuppo</th>\n",
       "      <td>1</td>\n",
       "      <td>1</td>\n",
       "      <td>1</td>\n",
       "      <td>1</td>\n",
       "      <td>0</td>\n",
       "      <td>1</td>\n",
       "      <td>1</td>\n",
       "      <td>1</td>\n",
       "      <td>1</td>\n",
       "      <td>1</td>\n",
       "      <td>1</td>\n",
       "      <td>1</td>\n",
       "      <td>1</td>\n",
       "    </tr>\n",
       "  </tbody>\n",
       "</table>\n",
       "</div>"
      ],
      "text/plain": [
       "              date  time  source  text  name  rating   p1  p1_conf  p1_dog  \\\n",
       "stage                                                                        \n",
       "pupper        245   245   245     245   142   245     245  245      245      \n",
       "doggo         83    83    83      83    47    83      83   83       83       \n",
       "puppo         29    29    29      29    20    29      29   29       29       \n",
       "doggopupper   12    12    12      12    6     12      12   12       12       \n",
       "floofer       9     9     9       9     5     9       9    9        9        \n",
       "doggofloofer  1     1     1       1     0     1       1    1        1        \n",
       "doggopuppo    1     1     1       1     0     1       1    1        1        \n",
       "\n",
       "               id  id2  retweet_count  likes  \n",
       "stage                                         \n",
       "pupper        245  245  245            245    \n",
       "doggo         83   83   83             83     \n",
       "puppo         29   29   29             29     \n",
       "doggopupper   12   12   12             12     \n",
       "floofer       9    9    9              9      \n",
       "doggofloofer  1    1    1              1      \n",
       "doggopuppo    1    1    1              1      "
      ]
     },
     "execution_count": 504,
     "metadata": {},
     "output_type": "execute_result"
    }
   ],
   "source": [
    "stage.sort_values('id',ascending=False)"
   ]
  },
  {
   "cell_type": "markdown",
   "metadata": {},
   "source": [
    "We can see pupper is the stage with the most dogs "
   ]
  },
  {
   "cell_type": "markdown",
   "metadata": {},
   "source": [
    "To find the most retweeteddog post"
   ]
  },
  {
   "cell_type": "code",
   "execution_count": 383,
   "metadata": {},
   "outputs": [],
   "source": [
    "hr=master_df['retweet_count'].max()"
   ]
  },
  {
   "cell_type": "code",
   "execution_count": 384,
   "metadata": {
    "scrolled": true
   },
   "outputs": [
    {
     "data": {
      "text/html": [
       "<div>\n",
       "<style scoped>\n",
       "    .dataframe tbody tr th:only-of-type {\n",
       "        vertical-align: middle;\n",
       "    }\n",
       "\n",
       "    .dataframe tbody tr th {\n",
       "        vertical-align: top;\n",
       "    }\n",
       "\n",
       "    .dataframe thead th {\n",
       "        text-align: right;\n",
       "    }\n",
       "</style>\n",
       "<table border=\"1\" class=\"dataframe\">\n",
       "  <thead>\n",
       "    <tr style=\"text-align: right;\">\n",
       "      <th></th>\n",
       "      <th>date</th>\n",
       "      <th>time</th>\n",
       "      <th>source</th>\n",
       "      <th>text</th>\n",
       "      <th>name</th>\n",
       "      <th>stage</th>\n",
       "      <th>rating</th>\n",
       "      <th>p1</th>\n",
       "      <th>p1_conf</th>\n",
       "      <th>p1_dog</th>\n",
       "      <th>id</th>\n",
       "      <th>id2</th>\n",
       "      <th>retweet_count</th>\n",
       "      <th>likes</th>\n",
       "    </tr>\n",
       "  </thead>\n",
       "  <tbody>\n",
       "    <tr>\n",
       "      <th>1037</th>\n",
       "      <td>2016-06-20</td>\n",
       "      <td>01:54:27</td>\n",
       "      <td>&lt;a href=\"http://twitter.com/download/iphone\" rel=\"nofollow\"&gt;Twitter for iPhone&lt;/a&gt;</td>\n",
       "      <td>This is Harvey. He's stealthy af. 1</td>\n",
       "      <td>Harvey</td>\n",
       "      <td>NaN</td>\n",
       "      <td>1.0</td>\n",
       "      <td>nan</td>\n",
       "      <td>0.105171</td>\n",
       "      <td>False</td>\n",
       "      <td>7.442348e+17</td>\n",
       "      <td>7.442348e+17</td>\n",
       "      <td>79515.0</td>\n",
       "      <td>131075.0</td>\n",
       "    </tr>\n",
       "  </tbody>\n",
       "</table>\n",
       "</div>"
      ],
      "text/plain": [
       "             date      time  \\\n",
       "1037  2016-06-20   01:54:27   \n",
       "\n",
       "                                                                                  source  \\\n",
       "1037  <a href=\"http://twitter.com/download/iphone\" rel=\"nofollow\">Twitter for iPhone</a>   \n",
       "\n",
       "                                     text    name stage  rating   p1  \\\n",
       "1037  This is Harvey. He's stealthy af. 1  Harvey  NaN   1.0     nan   \n",
       "\n",
       "       p1_conf p1_dog            id           id2  retweet_count     likes  \n",
       "1037  0.105171  False  7.442348e+17  7.442348e+17  79515.0        131075.0  "
      ]
     },
     "execution_count": 384,
     "metadata": {},
     "output_type": "execute_result"
    }
   ],
   "source": [
    "master_df[master_df['retweet_count']==hr]"
   ]
  },
  {
   "cell_type": "markdown",
   "metadata": {},
   "source": [
    "most favorite dog"
   ]
  },
  {
   "cell_type": "code",
   "execution_count": 386,
   "metadata": {},
   "outputs": [],
   "source": [
    "hf=master_df['likes'].max()"
   ]
  },
  {
   "cell_type": "code",
   "execution_count": 387,
   "metadata": {},
   "outputs": [
    {
     "data": {
      "text/html": [
       "<div>\n",
       "<style scoped>\n",
       "    .dataframe tbody tr th:only-of-type {\n",
       "        vertical-align: middle;\n",
       "    }\n",
       "\n",
       "    .dataframe tbody tr th {\n",
       "        vertical-align: top;\n",
       "    }\n",
       "\n",
       "    .dataframe thead th {\n",
       "        text-align: right;\n",
       "    }\n",
       "</style>\n",
       "<table border=\"1\" class=\"dataframe\">\n",
       "  <thead>\n",
       "    <tr style=\"text-align: right;\">\n",
       "      <th></th>\n",
       "      <th>date</th>\n",
       "      <th>time</th>\n",
       "      <th>source</th>\n",
       "      <th>text</th>\n",
       "      <th>name</th>\n",
       "      <th>stage</th>\n",
       "      <th>rating</th>\n",
       "      <th>p1</th>\n",
       "      <th>p1_conf</th>\n",
       "      <th>p1_dog</th>\n",
       "      <th>id</th>\n",
       "      <th>id2</th>\n",
       "      <th>retweet_count</th>\n",
       "      <th>likes</th>\n",
       "    </tr>\n",
       "  </thead>\n",
       "  <tbody>\n",
       "    <tr>\n",
       "      <th>412</th>\n",
       "      <td>2017-01-22</td>\n",
       "      <td>01:12:59</td>\n",
       "      <td>&lt;a href=\"http://twitter.com/download/iphone\" rel=\"nofollow\"&gt;Twitter for iPhone&lt;/a&gt;</td>\n",
       "      <td>This is Albus. He's soaked as h*ck. Seems to have misplaced an ear as well. Still in good spirits tho. 1</td>\n",
       "      <td>Albus</td>\n",
       "      <td>NaN</td>\n",
       "      <td>1.2</td>\n",
       "      <td>nan</td>\n",
       "      <td>0.172079</td>\n",
       "      <td>False</td>\n",
       "      <td>8.228729e+17</td>\n",
       "      <td>8.228729e+17</td>\n",
       "      <td>48265.0</td>\n",
       "      <td>132810.0</td>\n",
       "    </tr>\n",
       "  </tbody>\n",
       "</table>\n",
       "</div>"
      ],
      "text/plain": [
       "            date      time  \\\n",
       "412  2017-01-22   01:12:59   \n",
       "\n",
       "                                                                                 source  \\\n",
       "412  <a href=\"http://twitter.com/download/iphone\" rel=\"nofollow\">Twitter for iPhone</a>   \n",
       "\n",
       "                                                                                                         text  \\\n",
       "412  This is Albus. He's soaked as h*ck. Seems to have misplaced an ear as well. Still in good spirits tho. 1   \n",
       "\n",
       "      name stage  rating   p1   p1_conf p1_dog            id           id2  \\\n",
       "412  Albus  NaN   1.2     nan  0.172079  False  8.228729e+17  8.228729e+17   \n",
       "\n",
       "     retweet_count     likes  \n",
       "412  48265.0        132810.0  "
      ]
     },
     "execution_count": 387,
     "metadata": {},
     "output_type": "execute_result"
    }
   ],
   "source": [
    "master_df[master_df['likes']==hf]"
   ]
  },
  {
   "cell_type": "markdown",
   "metadata": {},
   "source": [
    "albus from 2017 has the highest favorite count"
   ]
  },
  {
   "cell_type": "markdown",
   "metadata": {},
   "source": [
    "most popular breeds"
   ]
  },
  {
   "cell_type": "code",
   "execution_count": 388,
   "metadata": {
    "scrolled": true
   },
   "outputs": [
    {
     "data": {
      "text/plain": [
       "nan                               1229\n",
       "GOLDEN RETRIEVER                  150 \n",
       "LABRADOR RETRIEVER                100 \n",
       "CHIHUAHUA                         83  \n",
       "PUG                               57  \n",
       "SAMOYED                           43  \n",
       "FRENCH BULLDOG                    26  \n",
       "MINIATURE PINSCHER                23  \n",
       "CHESAPEAKE BAY RETRIEVER          23  \n",
       "SIBERIAN HUSKY                    20  \n",
       "BEAGLE                            18  \n",
       "SHETLAND SHEEPDOG                 18  \n",
       "ROTTWEILER                        17  \n",
       "LAKELAND TERRIER                  17  \n",
       "KUVASZ                            16  \n",
       "WEST HIGHLAND WHITE TERRIER       14  \n",
       "DALMATIAN                         13  \n",
       "AMERICAN STAFFORDSHIRE TERRIER    13  \n",
       "BORDER COLLIE                     12  \n",
       "OLD ENGLISH SHEEPDOG              12  \n",
       "BERNESE MOUNTAIN DOG              10  \n",
       "BOXER                             10  \n",
       "SCHIPPERKE                        10  \n",
       "WHIPPET                           9   \n",
       "GREAT DANE                        9   \n",
       "YORKSHIRE TERRIER                 8   \n",
       "ENGLISH SETTER                    8   \n",
       "BLOODHOUND                        7   \n",
       "BORDER TERRIER                    7   \n",
       "NORFOLK TERRIER                   7   \n",
       "BASENJI                           7   \n",
       "BRITTANY SPANIEL                  7   \n",
       "IRISH TERRIER                     6   \n",
       "TIBETAN MASTIFF                   5   \n",
       "NEWFOUNDLAND                      5   \n",
       "BEDLINGTON TERRIER                5   \n",
       "TIBETAN TERRIER                   4   \n",
       "RHODESIAN RIDGEBACK               4   \n",
       "GORDON SETTER                     4   \n",
       "MINIATURE SCHNAUZER               4   \n",
       "NORWICH TERRIER                   4   \n",
       "AFGHAN HOUND                      4   \n",
       "WEIMARANER                        4   \n",
       "SALUKI                            4   \n",
       "IRISH WATER SPANIEL               3   \n",
       "KOMONDOR                          3   \n",
       "GIANT SCHNAUZER                   3   \n",
       "BRIARD                            3   \n",
       "WELSH SPRINGER SPANIEL            3   \n",
       "SUSSEX SPANIEL                    2   \n",
       "AUSTRALIAN TERRIER                2   \n",
       "Name: p1, dtype: int64"
      ]
     },
     "execution_count": 388,
     "metadata": {},
     "output_type": "execute_result"
    }
   ],
   "source": [
    "master_df['p1'].value_counts(dropna=True).sort_values(ascending=False)"
   ]
  },
  {
   "cell_type": "code",
   "execution_count": 478,
   "metadata": {},
   "outputs": [],
   "source": [
    "breed=master_df.groupby('p1')"
   ]
  },
  {
   "cell_type": "code",
   "execution_count": 479,
   "metadata": {},
   "outputs": [],
   "source": [
    "breed=breed.sum().sort_values('likes',ascending=False).drop('nan',axis=0)"
   ]
  },
  {
   "cell_type": "code",
   "execution_count": 480,
   "metadata": {},
   "outputs": [],
   "source": [
    "breed=pd.DataFrame(breed)"
   ]
  },
  {
   "cell_type": "code",
   "execution_count": 481,
   "metadata": {},
   "outputs": [
    {
     "data": {
      "text/html": [
       "<div>\n",
       "<style scoped>\n",
       "    .dataframe tbody tr th:only-of-type {\n",
       "        vertical-align: middle;\n",
       "    }\n",
       "\n",
       "    .dataframe tbody tr th {\n",
       "        vertical-align: top;\n",
       "    }\n",
       "\n",
       "    .dataframe thead th {\n",
       "        text-align: right;\n",
       "    }\n",
       "</style>\n",
       "<table border=\"1\" class=\"dataframe\">\n",
       "  <thead>\n",
       "    <tr style=\"text-align: right;\">\n",
       "      <th></th>\n",
       "      <th>rating</th>\n",
       "      <th>p1_conf</th>\n",
       "      <th>id</th>\n",
       "      <th>id2</th>\n",
       "      <th>retweet_count</th>\n",
       "      <th>likes</th>\n",
       "    </tr>\n",
       "    <tr>\n",
       "      <th>p1</th>\n",
       "      <th></th>\n",
       "      <th></th>\n",
       "      <th></th>\n",
       "      <th></th>\n",
       "      <th></th>\n",
       "      <th></th>\n",
       "    </tr>\n",
       "  </thead>\n",
       "  <tbody>\n",
       "    <tr>\n",
       "      <th>GOLDEN RETRIEVER</th>\n",
       "      <td>159.478571</td>\n",
       "      <td>108.533285</td>\n",
       "      <td>1.095235e+20</td>\n",
       "      <td>1.095235e+20</td>\n",
       "      <td>366962.0</td>\n",
       "      <td>1008182.0</td>\n",
       "    </tr>\n",
       "    <tr>\n",
       "      <th>LABRADOR RETRIEVER</th>\n",
       "      <td>115.900000</td>\n",
       "      <td>66.652336</td>\n",
       "      <td>7.391084e+19</td>\n",
       "      <td>7.391084e+19</td>\n",
       "      <td>308581.0</td>\n",
       "      <td>911072.0</td>\n",
       "    </tr>\n",
       "    <tr>\n",
       "      <th>CHIHUAHUA</th>\n",
       "      <td>92.300000</td>\n",
       "      <td>48.711727</td>\n",
       "      <td>6.371069e+19</td>\n",
       "      <td>6.371069e+19</td>\n",
       "      <td>323065.0</td>\n",
       "      <td>752399.0</td>\n",
       "    </tr>\n",
       "    <tr>\n",
       "      <th>PUG</th>\n",
       "      <td>62.518182</td>\n",
       "      <td>43.186819</td>\n",
       "      <td>4.370211e+19</td>\n",
       "      <td>4.370211e+19</td>\n",
       "      <td>167101.0</td>\n",
       "      <td>399731.0</td>\n",
       "    </tr>\n",
       "    <tr>\n",
       "      <th>SAMOYED</th>\n",
       "      <td>47.400000</td>\n",
       "      <td>31.864562</td>\n",
       "      <td>3.148184e+19</td>\n",
       "      <td>3.148184e+19</td>\n",
       "      <td>181688.0</td>\n",
       "      <td>300092.0</td>\n",
       "    </tr>\n",
       "    <tr>\n",
       "      <th>BEAGLE</th>\n",
       "      <td>20.400000</td>\n",
       "      <td>10.369169</td>\n",
       "      <td>1.383755e+19</td>\n",
       "      <td>1.383755e+19</td>\n",
       "      <td>99652.0</td>\n",
       "      <td>249859.0</td>\n",
       "    </tr>\n",
       "    <tr>\n",
       "      <th>ROTTWEILER</th>\n",
       "      <td>18.800000</td>\n",
       "      <td>9.703581</td>\n",
       "      <td>1.318733e+19</td>\n",
       "      <td>1.318733e+19</td>\n",
       "      <td>62007.0</td>\n",
       "      <td>224327.0</td>\n",
       "    </tr>\n",
       "    <tr>\n",
       "      <th>MINIATURE PINSCHER</th>\n",
       "      <td>24.600000</td>\n",
       "      <td>11.856065</td>\n",
       "      <td>1.733614e+19</td>\n",
       "      <td>1.733614e+19</td>\n",
       "      <td>81392.0</td>\n",
       "      <td>209330.0</td>\n",
       "    </tr>\n",
       "    <tr>\n",
       "      <th>CHESAPEAKE BAY RETRIEVER</th>\n",
       "      <td>26.600000</td>\n",
       "      <td>12.514626</td>\n",
       "      <td>1.717868e+19</td>\n",
       "      <td>1.717868e+19</td>\n",
       "      <td>116116.0</td>\n",
       "      <td>197886.0</td>\n",
       "    </tr>\n",
       "    <tr>\n",
       "      <th>DALMATIAN</th>\n",
       "      <td>14.100000</td>\n",
       "      <td>7.727013</td>\n",
       "      <td>1.005124e+19</td>\n",
       "      <td>1.005124e+19</td>\n",
       "      <td>51685.0</td>\n",
       "      <td>175162.0</td>\n",
       "    </tr>\n",
       "    <tr>\n",
       "      <th>FRENCH BULLDOG</th>\n",
       "      <td>26.500000</td>\n",
       "      <td>20.036307</td>\n",
       "      <td>1.877233e+19</td>\n",
       "      <td>1.877233e+19</td>\n",
       "      <td>66235.0</td>\n",
       "      <td>172689.0</td>\n",
       "    </tr>\n",
       "    <tr>\n",
       "      <th>SHETLAND SHEEPDOG</th>\n",
       "      <td>19.600000</td>\n",
       "      <td>11.277763</td>\n",
       "      <td>1.339440e+19</td>\n",
       "      <td>1.339440e+19</td>\n",
       "      <td>79198.0</td>\n",
       "      <td>160059.0</td>\n",
       "    </tr>\n",
       "    <tr>\n",
       "      <th>LAKELAND TERRIER</th>\n",
       "      <td>18.600000</td>\n",
       "      <td>8.410269</td>\n",
       "      <td>1.287618e+19</td>\n",
       "      <td>1.287618e+19</td>\n",
       "      <td>39968.0</td>\n",
       "      <td>152039.0</td>\n",
       "    </tr>\n",
       "    <tr>\n",
       "      <th>SIBERIAN HUSKY</th>\n",
       "      <td>21.100000</td>\n",
       "      <td>9.859338</td>\n",
       "      <td>1.480175e+19</td>\n",
       "      <td>1.480175e+19</td>\n",
       "      <td>72494.0</td>\n",
       "      <td>140253.0</td>\n",
       "    </tr>\n",
       "    <tr>\n",
       "      <th>KUVASZ</th>\n",
       "      <td>17.600000</td>\n",
       "      <td>6.967947</td>\n",
       "      <td>1.197928e+19</td>\n",
       "      <td>1.197928e+19</td>\n",
       "      <td>41245.0</td>\n",
       "      <td>136147.0</td>\n",
       "    </tr>\n",
       "    <tr>\n",
       "      <th>ENGLISH SETTER</th>\n",
       "      <td>9.400000</td>\n",
       "      <td>4.434875</td>\n",
       "      <td>6.280900e+18</td>\n",
       "      <td>6.280900e+18</td>\n",
       "      <td>27072.0</td>\n",
       "      <td>120928.0</td>\n",
       "    </tr>\n",
       "    <tr>\n",
       "      <th>AMERICAN STAFFORDSHIRE TERRIER</th>\n",
       "      <td>14.900000</td>\n",
       "      <td>8.296046</td>\n",
       "      <td>9.636991e+18</td>\n",
       "      <td>9.636991e+18</td>\n",
       "      <td>55617.0</td>\n",
       "      <td>115051.0</td>\n",
       "    </tr>\n",
       "    <tr>\n",
       "      <th>BOXER</th>\n",
       "      <td>11.100000</td>\n",
       "      <td>6.825226</td>\n",
       "      <td>7.506382e+18</td>\n",
       "      <td>7.506382e+18</td>\n",
       "      <td>52626.0</td>\n",
       "      <td>111176.0</td>\n",
       "    </tr>\n",
       "    <tr>\n",
       "      <th>OLD ENGLISH SHEEPDOG</th>\n",
       "      <td>11.600000</td>\n",
       "      <td>7.433158</td>\n",
       "      <td>8.672206e+18</td>\n",
       "      <td>8.672206e+18</td>\n",
       "      <td>38358.0</td>\n",
       "      <td>106821.0</td>\n",
       "    </tr>\n",
       "    <tr>\n",
       "      <th>WEST HIGHLAND WHITE TERRIER</th>\n",
       "      <td>15.900000</td>\n",
       "      <td>8.708928</td>\n",
       "      <td>1.086262e+19</td>\n",
       "      <td>1.086262e+19</td>\n",
       "      <td>30058.0</td>\n",
       "      <td>92018.0</td>\n",
       "    </tr>\n",
       "    <tr>\n",
       "      <th>BORDER COLLIE</th>\n",
       "      <td>13.400000</td>\n",
       "      <td>6.922136</td>\n",
       "      <td>8.899149e+18</td>\n",
       "      <td>8.899149e+18</td>\n",
       "      <td>26881.0</td>\n",
       "      <td>84985.0</td>\n",
       "    </tr>\n",
       "    <tr>\n",
       "      <th>SCHIPPERKE</th>\n",
       "      <td>10.100000</td>\n",
       "      <td>5.858557</td>\n",
       "      <td>7.379638e+18</td>\n",
       "      <td>7.379638e+18</td>\n",
       "      <td>50381.0</td>\n",
       "      <td>84437.0</td>\n",
       "    </tr>\n",
       "    <tr>\n",
       "      <th>IRISH TERRIER</th>\n",
       "      <td>13.100000</td>\n",
       "      <td>2.824037</td>\n",
       "      <td>4.689170e+18</td>\n",
       "      <td>4.689170e+18</td>\n",
       "      <td>32086.0</td>\n",
       "      <td>79359.0</td>\n",
       "    </tr>\n",
       "    <tr>\n",
       "      <th>NEWFOUNDLAND</th>\n",
       "      <td>5.700000</td>\n",
       "      <td>2.221924</td>\n",
       "      <td>3.659787e+18</td>\n",
       "      <td>3.659787e+18</td>\n",
       "      <td>26701.0</td>\n",
       "      <td>73721.0</td>\n",
       "    </tr>\n",
       "    <tr>\n",
       "      <th>NORFOLK TERRIER</th>\n",
       "      <td>8.500000</td>\n",
       "      <td>2.319847</td>\n",
       "      <td>5.378858e+18</td>\n",
       "      <td>5.378858e+18</td>\n",
       "      <td>22340.0</td>\n",
       "      <td>72201.0</td>\n",
       "    </tr>\n",
       "    <tr>\n",
       "      <th>GORDON SETTER</th>\n",
       "      <td>3.400000</td>\n",
       "      <td>2.154196</td>\n",
       "      <td>3.107525e+18</td>\n",
       "      <td>3.107525e+18</td>\n",
       "      <td>16133.0</td>\n",
       "      <td>70517.0</td>\n",
       "    </tr>\n",
       "    <tr>\n",
       "      <th>WHIPPET</th>\n",
       "      <td>9.300000</td>\n",
       "      <td>4.892173</td>\n",
       "      <td>6.669145e+18</td>\n",
       "      <td>6.669145e+18</td>\n",
       "      <td>19904.0</td>\n",
       "      <td>70488.0</td>\n",
       "    </tr>\n",
       "    <tr>\n",
       "      <th>RHODESIAN RIDGEBACK</th>\n",
       "      <td>3.400000</td>\n",
       "      <td>2.014577</td>\n",
       "      <td>3.108405e+18</td>\n",
       "      <td>3.108405e+18</td>\n",
       "      <td>13831.0</td>\n",
       "      <td>60487.0</td>\n",
       "    </tr>\n",
       "    <tr>\n",
       "      <th>BERNESE MOUNTAIN DOG</th>\n",
       "      <td>11.100000</td>\n",
       "      <td>8.018161</td>\n",
       "      <td>7.453096e+18</td>\n",
       "      <td>7.453096e+18</td>\n",
       "      <td>13234.0</td>\n",
       "      <td>59494.0</td>\n",
       "    </tr>\n",
       "    <tr>\n",
       "      <th>GREAT DANE</th>\n",
       "      <td>9.900000</td>\n",
       "      <td>3.947811</td>\n",
       "      <td>6.532299e+18</td>\n",
       "      <td>6.532299e+18</td>\n",
       "      <td>17808.0</td>\n",
       "      <td>53896.0</td>\n",
       "    </tr>\n",
       "    <tr>\n",
       "      <th>NORWICH TERRIER</th>\n",
       "      <td>3.800000</td>\n",
       "      <td>1.181983</td>\n",
       "      <td>3.058237e+18</td>\n",
       "      <td>3.058237e+18</td>\n",
       "      <td>14158.0</td>\n",
       "      <td>53615.0</td>\n",
       "    </tr>\n",
       "    <tr>\n",
       "      <th>TIBETAN TERRIER</th>\n",
       "      <td>5.100000</td>\n",
       "      <td>1.634203</td>\n",
       "      <td>3.152527e+18</td>\n",
       "      <td>3.152527e+18</td>\n",
       "      <td>13147.0</td>\n",
       "      <td>53096.0</td>\n",
       "    </tr>\n",
       "    <tr>\n",
       "      <th>YORKSHIRE TERRIER</th>\n",
       "      <td>9.300000</td>\n",
       "      <td>4.479052</td>\n",
       "      <td>6.139001e+18</td>\n",
       "      <td>6.139001e+18</td>\n",
       "      <td>51471.0</td>\n",
       "      <td>50317.0</td>\n",
       "    </tr>\n",
       "    <tr>\n",
       "      <th>BASENJI</th>\n",
       "      <td>8.400000</td>\n",
       "      <td>3.453969</td>\n",
       "      <td>5.475118e+18</td>\n",
       "      <td>5.475118e+18</td>\n",
       "      <td>40886.0</td>\n",
       "      <td>49089.0</td>\n",
       "    </tr>\n",
       "    <tr>\n",
       "      <th>WELSH SPRINGER SPANIEL</th>\n",
       "      <td>3.600000</td>\n",
       "      <td>1.399706</td>\n",
       "      <td>2.399502e+18</td>\n",
       "      <td>2.399502e+18</td>\n",
       "      <td>11729.0</td>\n",
       "      <td>47324.0</td>\n",
       "    </tr>\n",
       "    <tr>\n",
       "      <th>BRITTANY SPANIEL</th>\n",
       "      <td>8.400000</td>\n",
       "      <td>6.121814</td>\n",
       "      <td>5.315450e+18</td>\n",
       "      <td>5.315450e+18</td>\n",
       "      <td>17450.0</td>\n",
       "      <td>47174.0</td>\n",
       "    </tr>\n",
       "    <tr>\n",
       "      <th>GIANT SCHNAUZER</th>\n",
       "      <td>3.800000</td>\n",
       "      <td>1.307426</td>\n",
       "      <td>2.372035e+18</td>\n",
       "      <td>2.372035e+18</td>\n",
       "      <td>7080.0</td>\n",
       "      <td>37984.0</td>\n",
       "    </tr>\n",
       "    <tr>\n",
       "      <th>MINIATURE SCHNAUZER</th>\n",
       "      <td>4.400000</td>\n",
       "      <td>2.063327</td>\n",
       "      <td>3.212966e+18</td>\n",
       "      <td>3.212966e+18</td>\n",
       "      <td>4948.0</td>\n",
       "      <td>30301.0</td>\n",
       "    </tr>\n",
       "    <tr>\n",
       "      <th>BLOODHOUND</th>\n",
       "      <td>7.700000</td>\n",
       "      <td>3.531306</td>\n",
       "      <td>5.238613e+18</td>\n",
       "      <td>5.238613e+18</td>\n",
       "      <td>9180.0</td>\n",
       "      <td>29772.0</td>\n",
       "    </tr>\n",
       "    <tr>\n",
       "      <th>WEIMARANER</th>\n",
       "      <td>4.200000</td>\n",
       "      <td>2.356054</td>\n",
       "      <td>2.850415e+18</td>\n",
       "      <td>2.850415e+18</td>\n",
       "      <td>8832.0</td>\n",
       "      <td>26135.0</td>\n",
       "    </tr>\n",
       "    <tr>\n",
       "      <th>TIBETAN MASTIFF</th>\n",
       "      <td>5.900000</td>\n",
       "      <td>3.223688</td>\n",
       "      <td>3.578097e+18</td>\n",
       "      <td>3.578097e+18</td>\n",
       "      <td>8116.0</td>\n",
       "      <td>22884.0</td>\n",
       "    </tr>\n",
       "    <tr>\n",
       "      <th>AFGHAN HOUND</th>\n",
       "      <td>4.500000</td>\n",
       "      <td>1.576515</td>\n",
       "      <td>2.735685e+18</td>\n",
       "      <td>2.735685e+18</td>\n",
       "      <td>7576.0</td>\n",
       "      <td>20469.0</td>\n",
       "    </tr>\n",
       "    <tr>\n",
       "      <th>SUSSEX SPANIEL</th>\n",
       "      <td>2.500000</td>\n",
       "      <td>0.758947</td>\n",
       "      <td>1.550275e+18</td>\n",
       "      <td>1.550275e+18</td>\n",
       "      <td>4768.0</td>\n",
       "      <td>18925.0</td>\n",
       "    </tr>\n",
       "    <tr>\n",
       "      <th>BEDLINGTON TERRIER</th>\n",
       "      <td>4.200000</td>\n",
       "      <td>1.701213</td>\n",
       "      <td>3.452834e+18</td>\n",
       "      <td>3.452834e+18</td>\n",
       "      <td>5936.0</td>\n",
       "      <td>18078.0</td>\n",
       "    </tr>\n",
       "    <tr>\n",
       "      <th>BORDER TERRIER</th>\n",
       "      <td>6.900000</td>\n",
       "      <td>3.250412</td>\n",
       "      <td>4.897368e+18</td>\n",
       "      <td>4.897368e+18</td>\n",
       "      <td>5970.0</td>\n",
       "      <td>17961.0</td>\n",
       "    </tr>\n",
       "    <tr>\n",
       "      <th>KOMONDOR</th>\n",
       "      <td>3.400000</td>\n",
       "      <td>2.917593</td>\n",
       "      <td>2.225308e+18</td>\n",
       "      <td>2.225308e+18</td>\n",
       "      <td>4207.0</td>\n",
       "      <td>12672.0</td>\n",
       "    </tr>\n",
       "    <tr>\n",
       "      <th>AUSTRALIAN TERRIER</th>\n",
       "      <td>2.000000</td>\n",
       "      <td>0.615167</td>\n",
       "      <td>1.440811e+18</td>\n",
       "      <td>1.440811e+18</td>\n",
       "      <td>3795.0</td>\n",
       "      <td>12552.0</td>\n",
       "    </tr>\n",
       "    <tr>\n",
       "      <th>IRISH WATER SPANIEL</th>\n",
       "      <td>3.200000</td>\n",
       "      <td>1.241607</td>\n",
       "      <td>2.204528e+18</td>\n",
       "      <td>2.204528e+18</td>\n",
       "      <td>3034.0</td>\n",
       "      <td>11970.0</td>\n",
       "    </tr>\n",
       "    <tr>\n",
       "      <th>SALUKI</th>\n",
       "      <td>4.000000</td>\n",
       "      <td>2.092216</td>\n",
       "      <td>2.734102e+18</td>\n",
       "      <td>2.734102e+18</td>\n",
       "      <td>3983.0</td>\n",
       "      <td>10901.0</td>\n",
       "    </tr>\n",
       "    <tr>\n",
       "      <th>BRIARD</th>\n",
       "      <td>2.900000</td>\n",
       "      <td>1.856245</td>\n",
       "      <td>2.134431e+18</td>\n",
       "      <td>2.134431e+18</td>\n",
       "      <td>3217.0</td>\n",
       "      <td>10853.0</td>\n",
       "    </tr>\n",
       "  </tbody>\n",
       "</table>\n",
       "</div>"
      ],
      "text/plain": [
       "                                    rating     p1_conf            id  \\\n",
       "p1                                                                     \n",
       "GOLDEN RETRIEVER                159.478571  108.533285  1.095235e+20   \n",
       "LABRADOR RETRIEVER              115.900000  66.652336   7.391084e+19   \n",
       "CHIHUAHUA                       92.300000   48.711727   6.371069e+19   \n",
       "PUG                             62.518182   43.186819   4.370211e+19   \n",
       "SAMOYED                         47.400000   31.864562   3.148184e+19   \n",
       "BEAGLE                          20.400000   10.369169   1.383755e+19   \n",
       "ROTTWEILER                      18.800000   9.703581    1.318733e+19   \n",
       "MINIATURE PINSCHER              24.600000   11.856065   1.733614e+19   \n",
       "CHESAPEAKE BAY RETRIEVER        26.600000   12.514626   1.717868e+19   \n",
       "DALMATIAN                       14.100000   7.727013    1.005124e+19   \n",
       "FRENCH BULLDOG                  26.500000   20.036307   1.877233e+19   \n",
       "SHETLAND SHEEPDOG               19.600000   11.277763   1.339440e+19   \n",
       "LAKELAND TERRIER                18.600000   8.410269    1.287618e+19   \n",
       "SIBERIAN HUSKY                  21.100000   9.859338    1.480175e+19   \n",
       "KUVASZ                          17.600000   6.967947    1.197928e+19   \n",
       "ENGLISH SETTER                  9.400000    4.434875    6.280900e+18   \n",
       "AMERICAN STAFFORDSHIRE TERRIER  14.900000   8.296046    9.636991e+18   \n",
       "BOXER                           11.100000   6.825226    7.506382e+18   \n",
       "OLD ENGLISH SHEEPDOG            11.600000   7.433158    8.672206e+18   \n",
       "WEST HIGHLAND WHITE TERRIER     15.900000   8.708928    1.086262e+19   \n",
       "BORDER COLLIE                   13.400000   6.922136    8.899149e+18   \n",
       "SCHIPPERKE                      10.100000   5.858557    7.379638e+18   \n",
       "IRISH TERRIER                   13.100000   2.824037    4.689170e+18   \n",
       "NEWFOUNDLAND                    5.700000    2.221924    3.659787e+18   \n",
       "NORFOLK TERRIER                 8.500000    2.319847    5.378858e+18   \n",
       "GORDON SETTER                   3.400000    2.154196    3.107525e+18   \n",
       "WHIPPET                         9.300000    4.892173    6.669145e+18   \n",
       "RHODESIAN RIDGEBACK             3.400000    2.014577    3.108405e+18   \n",
       "BERNESE MOUNTAIN DOG            11.100000   8.018161    7.453096e+18   \n",
       "GREAT DANE                      9.900000    3.947811    6.532299e+18   \n",
       "NORWICH TERRIER                 3.800000    1.181983    3.058237e+18   \n",
       "TIBETAN TERRIER                 5.100000    1.634203    3.152527e+18   \n",
       "YORKSHIRE TERRIER               9.300000    4.479052    6.139001e+18   \n",
       "BASENJI                         8.400000    3.453969    5.475118e+18   \n",
       "WELSH SPRINGER SPANIEL          3.600000    1.399706    2.399502e+18   \n",
       "BRITTANY SPANIEL                8.400000    6.121814    5.315450e+18   \n",
       "GIANT SCHNAUZER                 3.800000    1.307426    2.372035e+18   \n",
       "MINIATURE SCHNAUZER             4.400000    2.063327    3.212966e+18   \n",
       "BLOODHOUND                      7.700000    3.531306    5.238613e+18   \n",
       "WEIMARANER                      4.200000    2.356054    2.850415e+18   \n",
       "TIBETAN MASTIFF                 5.900000    3.223688    3.578097e+18   \n",
       "AFGHAN HOUND                    4.500000    1.576515    2.735685e+18   \n",
       "SUSSEX SPANIEL                  2.500000    0.758947    1.550275e+18   \n",
       "BEDLINGTON TERRIER              4.200000    1.701213    3.452834e+18   \n",
       "BORDER TERRIER                  6.900000    3.250412    4.897368e+18   \n",
       "KOMONDOR                        3.400000    2.917593    2.225308e+18   \n",
       "AUSTRALIAN TERRIER              2.000000    0.615167    1.440811e+18   \n",
       "IRISH WATER SPANIEL             3.200000    1.241607    2.204528e+18   \n",
       "SALUKI                          4.000000    2.092216    2.734102e+18   \n",
       "BRIARD                          2.900000    1.856245    2.134431e+18   \n",
       "\n",
       "                                         id2  retweet_count      likes  \n",
       "p1                                                                      \n",
       "GOLDEN RETRIEVER                1.095235e+20  366962.0       1008182.0  \n",
       "LABRADOR RETRIEVER              7.391084e+19  308581.0       911072.0   \n",
       "CHIHUAHUA                       6.371069e+19  323065.0       752399.0   \n",
       "PUG                             4.370211e+19  167101.0       399731.0   \n",
       "SAMOYED                         3.148184e+19  181688.0       300092.0   \n",
       "BEAGLE                          1.383755e+19  99652.0        249859.0   \n",
       "ROTTWEILER                      1.318733e+19  62007.0        224327.0   \n",
       "MINIATURE PINSCHER              1.733614e+19  81392.0        209330.0   \n",
       "CHESAPEAKE BAY RETRIEVER        1.717868e+19  116116.0       197886.0   \n",
       "DALMATIAN                       1.005124e+19  51685.0        175162.0   \n",
       "FRENCH BULLDOG                  1.877233e+19  66235.0        172689.0   \n",
       "SHETLAND SHEEPDOG               1.339440e+19  79198.0        160059.0   \n",
       "LAKELAND TERRIER                1.287618e+19  39968.0        152039.0   \n",
       "SIBERIAN HUSKY                  1.480175e+19  72494.0        140253.0   \n",
       "KUVASZ                          1.197928e+19  41245.0        136147.0   \n",
       "ENGLISH SETTER                  6.280900e+18  27072.0        120928.0   \n",
       "AMERICAN STAFFORDSHIRE TERRIER  9.636991e+18  55617.0        115051.0   \n",
       "BOXER                           7.506382e+18  52626.0        111176.0   \n",
       "OLD ENGLISH SHEEPDOG            8.672206e+18  38358.0        106821.0   \n",
       "WEST HIGHLAND WHITE TERRIER     1.086262e+19  30058.0        92018.0    \n",
       "BORDER COLLIE                   8.899149e+18  26881.0        84985.0    \n",
       "SCHIPPERKE                      7.379638e+18  50381.0        84437.0    \n",
       "IRISH TERRIER                   4.689170e+18  32086.0        79359.0    \n",
       "NEWFOUNDLAND                    3.659787e+18  26701.0        73721.0    \n",
       "NORFOLK TERRIER                 5.378858e+18  22340.0        72201.0    \n",
       "GORDON SETTER                   3.107525e+18  16133.0        70517.0    \n",
       "WHIPPET                         6.669145e+18  19904.0        70488.0    \n",
       "RHODESIAN RIDGEBACK             3.108405e+18  13831.0        60487.0    \n",
       "BERNESE MOUNTAIN DOG            7.453096e+18  13234.0        59494.0    \n",
       "GREAT DANE                      6.532299e+18  17808.0        53896.0    \n",
       "NORWICH TERRIER                 3.058237e+18  14158.0        53615.0    \n",
       "TIBETAN TERRIER                 3.152527e+18  13147.0        53096.0    \n",
       "YORKSHIRE TERRIER               6.139001e+18  51471.0        50317.0    \n",
       "BASENJI                         5.475118e+18  40886.0        49089.0    \n",
       "WELSH SPRINGER SPANIEL          2.399502e+18  11729.0        47324.0    \n",
       "BRITTANY SPANIEL                5.315450e+18  17450.0        47174.0    \n",
       "GIANT SCHNAUZER                 2.372035e+18  7080.0         37984.0    \n",
       "MINIATURE SCHNAUZER             3.212966e+18  4948.0         30301.0    \n",
       "BLOODHOUND                      5.238613e+18  9180.0         29772.0    \n",
       "WEIMARANER                      2.850415e+18  8832.0         26135.0    \n",
       "TIBETAN MASTIFF                 3.578097e+18  8116.0         22884.0    \n",
       "AFGHAN HOUND                    2.735685e+18  7576.0         20469.0    \n",
       "SUSSEX SPANIEL                  1.550275e+18  4768.0         18925.0    \n",
       "BEDLINGTON TERRIER              3.452834e+18  5936.0         18078.0    \n",
       "BORDER TERRIER                  4.897368e+18  5970.0         17961.0    \n",
       "KOMONDOR                        2.225308e+18  4207.0         12672.0    \n",
       "AUSTRALIAN TERRIER              1.440811e+18  3795.0         12552.0    \n",
       "IRISH WATER SPANIEL             2.204528e+18  3034.0         11970.0    \n",
       "SALUKI                          2.734102e+18  3983.0         10901.0    \n",
       "BRIARD                          2.134431e+18  3217.0         10853.0    "
      ]
     },
     "execution_count": 481,
     "metadata": {},
     "output_type": "execute_result"
    }
   ],
   "source": [
    "breed"
   ]
  },
  {
   "cell_type": "raw",
   "metadata": {},
   "source": []
  },
  {
   "cell_type": "code",
   "execution_count": 425,
   "metadata": {},
   "outputs": [],
   "source": [
    "breed2=breed.head()"
   ]
  },
  {
   "cell_type": "code",
   "execution_count": 427,
   "metadata": {},
   "outputs": [
    {
     "data": {
      "text/html": [
       "<div>\n",
       "<style scoped>\n",
       "    .dataframe tbody tr th:only-of-type {\n",
       "        vertical-align: middle;\n",
       "    }\n",
       "\n",
       "    .dataframe tbody tr th {\n",
       "        vertical-align: top;\n",
       "    }\n",
       "\n",
       "    .dataframe thead th {\n",
       "        text-align: right;\n",
       "    }\n",
       "</style>\n",
       "<table border=\"1\" class=\"dataframe\">\n",
       "  <thead>\n",
       "    <tr style=\"text-align: right;\">\n",
       "      <th></th>\n",
       "      <th>rating</th>\n",
       "      <th>p1_conf</th>\n",
       "      <th>id</th>\n",
       "      <th>id2</th>\n",
       "      <th>retweet_count</th>\n",
       "      <th>likes</th>\n",
       "    </tr>\n",
       "    <tr>\n",
       "      <th>p1</th>\n",
       "      <th></th>\n",
       "      <th></th>\n",
       "      <th></th>\n",
       "      <th></th>\n",
       "      <th></th>\n",
       "      <th></th>\n",
       "    </tr>\n",
       "  </thead>\n",
       "  <tbody>\n",
       "    <tr>\n",
       "      <th>GOLDEN RETRIEVER</th>\n",
       "      <td>159.478571</td>\n",
       "      <td>108.533285</td>\n",
       "      <td>1.095235e+20</td>\n",
       "      <td>1.095235e+20</td>\n",
       "      <td>366962.0</td>\n",
       "      <td>1008182.0</td>\n",
       "    </tr>\n",
       "    <tr>\n",
       "      <th>LABRADOR RETRIEVER</th>\n",
       "      <td>115.900000</td>\n",
       "      <td>66.652336</td>\n",
       "      <td>7.391084e+19</td>\n",
       "      <td>7.391084e+19</td>\n",
       "      <td>308581.0</td>\n",
       "      <td>911072.0</td>\n",
       "    </tr>\n",
       "    <tr>\n",
       "      <th>CHIHUAHUA</th>\n",
       "      <td>92.300000</td>\n",
       "      <td>48.711727</td>\n",
       "      <td>6.371069e+19</td>\n",
       "      <td>6.371069e+19</td>\n",
       "      <td>323065.0</td>\n",
       "      <td>752399.0</td>\n",
       "    </tr>\n",
       "    <tr>\n",
       "      <th>PUG</th>\n",
       "      <td>62.518182</td>\n",
       "      <td>43.186819</td>\n",
       "      <td>4.370211e+19</td>\n",
       "      <td>4.370211e+19</td>\n",
       "      <td>167101.0</td>\n",
       "      <td>399731.0</td>\n",
       "    </tr>\n",
       "    <tr>\n",
       "      <th>SAMOYED</th>\n",
       "      <td>47.400000</td>\n",
       "      <td>31.864562</td>\n",
       "      <td>3.148184e+19</td>\n",
       "      <td>3.148184e+19</td>\n",
       "      <td>181688.0</td>\n",
       "      <td>300092.0</td>\n",
       "    </tr>\n",
       "  </tbody>\n",
       "</table>\n",
       "</div>"
      ],
      "text/plain": [
       "                        rating     p1_conf            id           id2  \\\n",
       "p1                                                                       \n",
       "GOLDEN RETRIEVER    159.478571  108.533285  1.095235e+20  1.095235e+20   \n",
       "LABRADOR RETRIEVER  115.900000  66.652336   7.391084e+19  7.391084e+19   \n",
       "CHIHUAHUA           92.300000   48.711727   6.371069e+19  6.371069e+19   \n",
       "PUG                 62.518182   43.186819   4.370211e+19  4.370211e+19   \n",
       "SAMOYED             47.400000   31.864562   3.148184e+19  3.148184e+19   \n",
       "\n",
       "                    retweet_count      likes  \n",
       "p1                                            \n",
       "GOLDEN RETRIEVER    366962.0       1008182.0  \n",
       "LABRADOR RETRIEVER  308581.0       911072.0   \n",
       "CHIHUAHUA           323065.0       752399.0   \n",
       "PUG                 167101.0       399731.0   \n",
       "SAMOYED             181688.0       300092.0   "
      ]
     },
     "execution_count": 427,
     "metadata": {},
     "output_type": "execute_result"
    }
   ],
   "source": [
    "breed2.head()"
   ]
  },
  {
   "cell_type": "markdown",
   "metadata": {},
   "source": [
    "We can see that The golden retriever is the most popular breed and the Australian terrier and sussex spaniel are the least posted"
   ]
  },
  {
   "cell_type": "code",
   "execution_count": 493,
   "metadata": {},
   "outputs": [],
   "source": [
    "master_df.rename(columns={\"p1\":\"breeds\"},inplace=True)"
   ]
  },
  {
   "cell_type": "code",
   "execution_count": null,
   "metadata": {},
   "outputs": [],
   "source": []
  },
  {
   "cell_type": "markdown",
   "metadata": {},
   "source": [
    "Therefore Harvey's post from 2018 has the highest retweets"
   ]
  },
  {
   "cell_type": "markdown",
   "metadata": {},
   "source": [
    "### Insights:\n",
    "1.Therefore Harvey's post from 2018 has the highest retweets\n",
    "\n",
    "\n",
    "2.Albus from 2017 has the highest favorite count\n",
    "\n",
    "3.We can see that The golden retriever is the most popular breed and the Australian terrier and sussex spaniel are the least posted\n",
    "\n",
    "4.We can see pupper is the stage with the most dogs "
   ]
  },
  {
   "cell_type": "markdown",
   "metadata": {
    "collapsed": true
   },
   "source": [
    "### Visualization"
   ]
  },
  {
   "cell_type": "code",
   "execution_count": 256,
   "metadata": {},
   "outputs": [
    {
     "data": {
      "image/png": "[encoded data removed]",
      "text/plain": [
       "<Figure size 432x288 with 1 Axes>"
      ]
     },
     "metadata": {
      "needs_background": "light"
     },
     "output_type": "display_data"
    }
   ],
   "source": [
    "plt.scatter(x='favorite_count',y='retweet_count',c='favorite_count',data=master_df2)\n",
    "plt.xlabel('favorite_count')\n",
    "plt.ylabel('retweet_count')\n",
    "plt.title('Relationship between favorite and retweeted')\n",
    "plt.savefig('Relationship between favorite and retweeted.png')"
   ]
  },
  {
   "cell_type": "markdown",
   "metadata": {},
   "source": [
    "Its obvious that there is a relationship between the retweeted count and favorite count so we can conclude that when people retweet a dog post, they find it appealing and may consider the dog as special."
   ]
  },
  {
   "cell_type": "code",
   "execution_count": null,
   "metadata": {},
   "outputs": [],
   "source": []
  },
  {
   "cell_type": "code",
   "execution_count": 317,
   "metadata": {},
   "outputs": [
    {
     "data": {
      "image/png": "[encoded data removed]",
      "text/plain": [
       "<Figure size 432x288 with 1 Axes>"
      ]
     },
     "metadata": {
      "needs_background": "light"
     },
     "output_type": "display_data"
    }
   ],
   "source": [
    "plt.scatter(x='favorite_count',y='rating_numerator',c='favorite_count',data=master_df2)\n",
    "plt.xlabel('favorite_count')\n",
    "plt.ylabel('rating_numerator')\n",
    "plt.title('Relationship between favorite and rating_numerator')\n",
    "plt.savefig('Relationship between favorite and rating_numerator.png')"
   ]
  },
  {
   "cell_type": "markdown",
   "metadata": {},
   "source": [
    "There is little or no relationship between the favorite count and the rating numerato as seen in the above diagram"
   ]
  },
  {
   "cell_type": "code",
   "execution_count": 230,
   "metadata": {},
   "outputs": [],
   "source": [
    "master_cor=master_df2.corr()"
   ]
  },
  {
   "cell_type": "code",
   "execution_count": 231,
   "metadata": {},
   "outputs": [
    {
     "data": {
      "text/html": [
       "<div>\n",
       "<style scoped>\n",
       "    .dataframe tbody tr th:only-of-type {\n",
       "        vertical-align: middle;\n",
       "    }\n",
       "\n",
       "    .dataframe tbody tr th {\n",
       "        vertical-align: top;\n",
       "    }\n",
       "\n",
       "    .dataframe thead th {\n",
       "        text-align: right;\n",
       "    }\n",
       "</style>\n",
       "<table border=\"1\" class=\"dataframe\">\n",
       "  <thead>\n",
       "    <tr style=\"text-align: right;\">\n",
       "      <th></th>\n",
       "      <th>tweet_id_twt_arc2</th>\n",
       "      <th>rating_numerator</th>\n",
       "      <th>rating_denominator</th>\n",
       "      <th>retweet_count</th>\n",
       "      <th>favorite_count</th>\n",
       "    </tr>\n",
       "  </thead>\n",
       "  <tbody>\n",
       "    <tr>\n",
       "      <th>tweet_id_twt_arc2</th>\n",
       "      <td>1.000000</td>\n",
       "      <td>0.049496</td>\n",
       "      <td>-0.028273</td>\n",
       "      <td>0.390154</td>\n",
       "      <td>0.528301</td>\n",
       "    </tr>\n",
       "    <tr>\n",
       "      <th>rating_numerator</th>\n",
       "      <td>0.049496</td>\n",
       "      <td>1.000000</td>\n",
       "      <td>0.150388</td>\n",
       "      <td>0.003561</td>\n",
       "      <td>0.019495</td>\n",
       "    </tr>\n",
       "    <tr>\n",
       "      <th>rating_denominator</th>\n",
       "      <td>-0.028273</td>\n",
       "      <td>0.150388</td>\n",
       "      <td>1.000000</td>\n",
       "      <td>-0.024046</td>\n",
       "      <td>-0.028657</td>\n",
       "    </tr>\n",
       "    <tr>\n",
       "      <th>retweet_count</th>\n",
       "      <td>0.390154</td>\n",
       "      <td>0.003561</td>\n",
       "      <td>-0.024046</td>\n",
       "      <td>1.000000</td>\n",
       "      <td>0.702881</td>\n",
       "    </tr>\n",
       "    <tr>\n",
       "      <th>favorite_count</th>\n",
       "      <td>0.528301</td>\n",
       "      <td>0.019495</td>\n",
       "      <td>-0.028657</td>\n",
       "      <td>0.702881</td>\n",
       "      <td>1.000000</td>\n",
       "    </tr>\n",
       "  </tbody>\n",
       "</table>\n",
       "</div>"
      ],
      "text/plain": [
       "                    tweet_id_twt_arc2  rating_numerator  rating_denominator  \\\n",
       "tweet_id_twt_arc2   1.000000           0.049496         -0.028273             \n",
       "rating_numerator    0.049496           1.000000          0.150388             \n",
       "rating_denominator -0.028273           0.150388          1.000000             \n",
       "retweet_count       0.390154           0.003561         -0.024046             \n",
       "favorite_count      0.528301           0.019495         -0.028657             \n",
       "\n",
       "                    retweet_count  favorite_count  \n",
       "tweet_id_twt_arc2   0.390154       0.528301        \n",
       "rating_numerator    0.003561       0.019495        \n",
       "rating_denominator -0.024046      -0.028657        \n",
       "retweet_count       1.000000       0.702881        \n",
       "favorite_count      0.702881       1.000000        "
      ]
     },
     "execution_count": 231,
     "metadata": {},
     "output_type": "execute_result"
    }
   ],
   "source": [
    "master_cor"
   ]
  },
  {
   "cell_type": "markdown",
   "metadata": {},
   "source": [
    "Heatmap"
   ]
  },
  {
   "cell_type": "code",
   "execution_count": 232,
   "metadata": {},
   "outputs": [
    {
     "data": {
      "text/plain": [
       "Text(32.09374999999999, 0.5, 'coloumns')"
      ]
     },
     "execution_count": 232,
     "metadata": {},
     "output_type": "execute_result"
    },
    {
     "data": {
      "image/png": "[encoded data removed]",
      "text/plain": [
       "<Figure size 432x288 with 2 Axes>"
      ]
     },
     "metadata": {
      "needs_background": "light"
     },
     "output_type": "display_data"
    }
   ],
   "source": [
    "ax = plt.axes()\n",
    "sns.heatmap(master_cor, ax = ax)\n",
    "ax.set_title('heatmap of columns')\n",
    "ax.set_xlabel('coloumns')\n",
    "ax.set_ylabel('coloumns')"
   ]
  },
  {
   "cell_type": "markdown",
   "metadata": {},
   "source": [
    "we can now see the correlation between the favorite_count and the retweet count is the highest so they influence each other"
   ]
  },
  {
   "cell_type": "markdown",
   "metadata": {},
   "source": [
    "Now a plot to demonstrate the top 5 breeds"
   ]
  },
  {
   "cell_type": "code",
   "execution_count": 507,
   "metadata": {},
   "outputs": [
    {
     "data": {
      "image/png": "[encoded data removed]",
      "text/plain": [
       "<Figure size 432x288 with 1 Axes>"
      ]
     },
     "metadata": {
      "needs_background": "light"
     },
     "output_type": "display_data"
    }
   ],
   "source": [
    "ax = plt.axes()\n",
    "sns.barplot(y=breed2.index,x='likes',data=breed2)\n",
    "ax.set_title('breed like count')\n",
    "ax.set_xlabel('like count')\n",
    "ax.set_ylabel('breeds')\n",
    "plt.savefig('breed likes.png')"
   ]
  },
  {
   "cell_type": "markdown",
   "metadata": {},
   "source": [
    "These are the top most liked breeds and The golden retriever from all indications is the most loved Dog as it has the highest like and retweet count"
   ]
  },
  {
   "cell_type": "code",
   "execution_count": 422,
   "metadata": {},
   "outputs": [],
   "source": [
    "breed_cor=breed.corr()"
   ]
  },
  {
   "cell_type": "code",
   "execution_count": 423,
   "metadata": {},
   "outputs": [
    {
     "data": {
      "text/plain": [
       "Text(32.09375, 0.5, 'coloumns')"
      ]
     },
     "execution_count": 423,
     "metadata": {},
     "output_type": "execute_result"
    },
    {
     "data": {
      "image/png": "[encoded data removed]",
      "text/plain": [
       "<Figure size 432x288 with 2 Axes>"
      ]
     },
     "metadata": {
      "needs_background": "light"
     },
     "output_type": "display_data"
    }
   ],
   "source": [
    "ax = plt.axes()\n",
    "sns.heatmap(breed_cor, ax = ax)\n",
    "ax.set_title('heatmap of columns')\n",
    "ax.set_xlabel('coloumns')\n",
    "ax.set_ylabel('coloumns')"
   ]
  },
  {
   "cell_type": "markdown",
   "metadata": {},
   "source": [
    "From this heatmap we can find a correlation between rating and likes"
   ]
  },
  {
   "cell_type": "code",
   "execution_count": 508,
   "metadata": {},
   "outputs": [
    {
     "data": {
      "image/png": "[encoded data removed]",
      "text/plain": [
       "<Figure size 432x288 with 1 Axes>"
      ]
     },
     "metadata": {
      "needs_background": "light"
     },
     "output_type": "display_data"
    }
   ],
   "source": [
    "ax = plt.axes()\n",
    "sns.barplot(y=breed2.index,x='rating',data=breed2)\n",
    "ax.set_title('rbreeds ratings')\n",
    "ax.set_xlabel('ratings')\n",
    "ax.set_ylabel('breeds')\n",
    "plt.savefig('breed ratings.png')"
   ]
  },
  {
   "cell_type": "markdown",
   "metadata": {},
   "source": [
    "Golden retriever with highest rating"
   ]
  },
  {
   "cell_type": "code",
   "execution_count": 510,
   "metadata": {},
   "outputs": [
    {
     "data": {
      "image/png": "[encoded data removed]",
      "text/plain": [
       "<Figure size 432x288 with 1 Axes>"
      ]
     },
     "metadata": {
      "needs_background": "light"
     },
     "output_type": "display_data"
    }
   ],
   "source": [
    "ax = plt.axes()\n",
    "sns.countplot(y='stage',data=master_df)\n",
    "ax.set_title('population in stages')\n",
    "ax.set_xlabel('popuation')\n",
    "ax.set_ylabel('stages')\n",
    "plt.savefig('stages.png')"
   ]
  },
  {
   "cell_type": "markdown",
   "metadata": {},
   "source": [
    "pupper has the highest population of dogs"
   ]
  },
  {
   "cell_type": "code",
   "execution_count": null,
   "metadata": {},
   "outputs": [],
   "source": []
  }
 ],
 "metadata": {
  "extensions": {
   "jupyter_dashboards": {
    "activeView": "report_default",
    "version": 1,
    "views": {
     "grid_default": {
      "cellMargin": 10,
      "defaultCellHeight": 20,
      "maxColumns": 12,
      "name": "grid",
      "type": "grid"
     },
     "report_default": {
      "name": "report",
      "type": "report"
     }
    }
   }
  },
  "kernelspec": {
   "display_name": "Python 3 (ipykernel)",
   "language": "python",
   "name": "python3"
  },
  "language_info": {
   "codemirror_mode": {
    "name": "ipython",
    "version": 3
   },
   "file_extension": ".py",
   "mimetype": "text/x-python",
   "name": "python",
   "nbconvert_exporter": "python",
   "pygments_lexer": "ipython3",
   "version": "3.9.7"
  }
 },
 "nbformat": 4,
 "nbformat_minor": 2
}
